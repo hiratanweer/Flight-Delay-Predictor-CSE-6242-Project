{
 "cells": [
  {
   "cell_type": "markdown",
   "id": "f822a332",
   "metadata": {},
   "source": [
    "## Load Library"
   ]
  },
  {
   "cell_type": "code",
   "execution_count": 24,
   "id": "871eb2a0",
   "metadata": {},
   "outputs": [],
   "source": [
    "import requests\n",
    "import pandas as pd"
   ]
  },
  {
   "cell_type": "markdown",
   "id": "a6cac9a3",
   "metadata": {},
   "source": [
    "## Request API from open-meteo.com"
   ]
  },
  {
   "cell_type": "code",
   "execution_count": 25,
   "id": "6be6ff13",
   "metadata": {},
   "outputs": [],
   "source": [
    "\n",
    "def get_Weather(lat, lng, ini_date = '2015-01-01', end_date = '2015-12-31'):\n",
    "\n",
    "    url = (\n",
    "        'https://archive-api.open-meteo.com/v1/archive?'\n",
    "        'latitude={}&'\n",
    "        'longitude={}&'\n",
    "        'start_date={}&'\n",
    "        'end_date={}&'\n",
    "        'hourly=temperature_2m,'\n",
    "        'relativehumidity_2m,'\n",
    "        'dewpoint_2m,'\n",
    "        'apparent_temperature,'\n",
    "        'pressure_msl,'\n",
    "        'surface_pressure,'\n",
    "        'precipitation,'\n",
    "        'rain,'\n",
    "        'snowfall,'\n",
    "        'weathercode,'\n",
    "        'cloudcover,'\n",
    "        'cloudcover_low,'\n",
    "        'cloudcover_mid,'\n",
    "        'cloudcover_high,'\n",
    "        'windspeed_10m,'\n",
    "        'windspeed_100m,'\n",
    "        'winddirection_10m,'\n",
    "        'winddirection_100m,'\n",
    "        'windgusts_10m&'\n",
    "        'daily=weathercode,'\n",
    "        'temperature_2m_max,'\n",
    "        'temperature_2m_min,'\n",
    "        'temperature_2m_mean,'\n",
    "        'rain_sum,'\n",
    "        'snowfall_sum,'\n",
    "        'precipitation_hours,'\n",
    "        'windspeed_10m_max,'\n",
    "        'windgusts_10m_max&'\n",
    "        'timezone=America%2FNew_York'\n",
    "    .format(lat, lng, ini_date, end_date)\n",
    "    )\n",
    "    \n",
    "    \n",
    "    \n",
    "\n",
    "    r = requests.get(url)\n",
    "\n",
    "    z = r.json()\n",
    "    \n",
    "    \n",
    "    hourly = pd.DataFrame.from_dict(z['hourly'])\n",
    "    daily = pd.DataFrame.from_dict(z['daily'])\n",
    "\n",
    "\n",
    "    return hourly, daily\n",
    "\n",
    "\n"
   ]
  },
  {
   "cell_type": "markdown",
   "id": "ca776c79",
   "metadata": {},
   "source": [
    "## Read Airports Data"
   ]
  },
  {
   "cell_type": "code",
   "execution_count": 26,
   "id": "ab854c6b",
   "metadata": {},
   "outputs": [],
   "source": [
    "def get_Airport1():\n",
    "    ap_dir = 'C:/Users/hymee/Desktop/OMSA/CSE6242/Project/airports.csv'\n",
    "    ret = pd.read_csv(ap_dir)\n",
    "    ret['LATITUDE'] = round(ret['LATITUDE'],2)\n",
    "    ret['LONGITUDE'] = round(ret['LONGITUDE'],2)\n",
    "    \n",
    "    return ret"
   ]
  },
  {
   "cell_type": "markdown",
   "id": "5d3a5b8e",
   "metadata": {},
   "source": [
    "## Get Weather Forecast"
   ]
  },
  {
   "cell_type": "code",
   "execution_count": 27,
   "id": "699b2e38",
   "metadata": {},
   "outputs": [],
   "source": [
    "def weather_Forcast(lat, lng):\n",
    "    url = (\n",
    "        'https://api.open-meteo.com/v1/forecast?'\n",
    "        'latitude={}&'\n",
    "        'longitude={}&'\n",
    "        'hourly=temperature_2m,'\n",
    "        'relativehumidity_2m,'\n",
    "        'dewpoint_2m,'\n",
    "        'apparent_temperature,'\n",
    "        'rain,'\n",
    "        'snowfall,'\n",
    "        'weathercode,'\n",
    "        'cloudcover,'\n",
    "        'cloudcover_low,'\n",
    "        'cloudcover_mid,'\n",
    "        'cloudcover_high,'\n",
    "        'windspeed_10m,'\n",
    "        'windspeed_80m,'\n",
    "        'winddirection_10m,'\n",
    "        'winddirection_80m,'\n",
    "        'windgusts_10m&'\n",
    "        'daily=weathercode,'\n",
    "        'temperature_2m_max,'\n",
    "        'temperature_2m_min,'\n",
    "        'rain_sum,'\n",
    "        'showers_sum,'\n",
    "        'snowfall_sum,'\n",
    "        'precipitation_hours,'\n",
    "        'windspeed_10m_max,'\n",
    "        'windgusts_10m_max&'\n",
    "        'forecast_days=16&'\n",
    "        'timezone=America%2FNew_York'\n",
    "        .format(lat, lng)\n",
    "    )\n",
    "    \n",
    "    \n",
    "    r = requests.get(url)\n",
    "    z = r.json()\n",
    "    \n",
    "    \n",
    "    hourly = pd.DataFrame.from_dict(z['hourly'])\n",
    "    daily = pd.DataFrame.from_dict(z['daily'])\n",
    "    \n",
    "    return hourly, daily"
   ]
  },
  {
   "cell_type": "markdown",
   "id": "34506a02",
   "metadata": {},
   "source": [
    "## Read Airports Data Method 2"
   ]
  },
  {
   "cell_type": "code",
   "execution_count": 28,
   "id": "5829ef0e",
   "metadata": {},
   "outputs": [],
   "source": [
    "def get_Airport2():\n",
    "\n",
    "\n",
    "    url = 'https://airlabs.co/api/v9/airports?country_code=US&api_key=cac33571-7f94-447c-a0d9-d42f64b0d941'\n",
    "    r = requests.get(url)\n",
    "    z = r.json()\n",
    "    \n",
    "    data = []\n",
    "    for i in z['response']:\n",
    "        key = i.keys()\n",
    "        if ('iata_code' in key) and ('name' in key) and ('lat' in key) and ('lng' in key):\n",
    "            data.append([i['iata_code'], i['name'], round(i['lat'],2), round(i['lng'],2)])\n",
    "            \n",
    "            \n",
    "    ret = pd.DataFrame(data, columns=['IATA_CODE', 'AIRPORT', 'LATITUDE' , 'LONGITUDE'])\n",
    "    return ret"
   ]
  },
  {
   "cell_type": "markdown",
   "id": "5132a821",
   "metadata": {},
   "source": [
    "## Main"
   ]
  },
  {
   "cell_type": "code",
   "execution_count": 29,
   "id": "ee5778dd",
   "metadata": {},
   "outputs": [
    {
     "name": "stdout",
     "output_type": "stream",
     "text": [
      "  IATA_CODE                                           AIRPORT  LATITUDE  \\\n",
      "0       ORD              Chicago O'Hare International Airport     41.98   \n",
      "1       ATL  Hartsfield-Jackson Atlanta International Airport     33.64   \n",
      "2       DFW           Dallas/Fort Worth International Airport     32.90   \n",
      "3       LAX                 Los Angeles International Airport     33.94   \n",
      "4       CLT           Charlotte Douglas International Airport     35.22   \n",
      "\n",
      "   LONGITUDE  \n",
      "0     -87.90  \n",
      "1     -84.43  \n",
      "2     -97.04  \n",
      "3    -118.41  \n",
      "4     -80.94  \n"
     ]
    }
   ],
   "source": [
    "airport_df = get_Airport2()\n",
    "print(airport_df.head())"
   ]
  },
  {
   "cell_type": "code",
   "execution_count": 30,
   "id": "c5c837ba",
   "metadata": {},
   "outputs": [],
   "source": [
    "ord_h, ord_d = get_Weather('41.98', '-87.90')"
   ]
  },
  {
   "cell_type": "code",
   "execution_count": 31,
   "id": "8730c775",
   "metadata": {},
   "outputs": [
    {
     "name": "stdout",
     "output_type": "stream",
     "text": [
      "               time  temperature_2m  relativehumidity_2m  dewpoint_2m  \\\n",
      "0  2015-01-01T00:00            -7.3                   37        -19.6   \n",
      "1  2015-01-01T01:00            -7.4                   38        -19.3   \n",
      "2  2015-01-01T02:00            -7.5                   39        -19.0   \n",
      "3  2015-01-01T03:00            -7.9                   41        -19.0   \n",
      "4  2015-01-01T04:00            -7.9                   41        -18.8   \n",
      "\n",
      "   apparent_temperature  pressure_msl  surface_pressure  precipitation  rain  \\\n",
      "0                 -14.6        1023.5             997.2            0.0   0.0   \n",
      "1                 -14.8        1022.9             996.6            0.0   0.0   \n",
      "2                 -14.9        1022.1             995.8            0.0   0.0   \n",
      "3                 -15.3        1021.3             995.0            0.0   0.0   \n",
      "4                 -15.2        1020.8             994.5            0.0   0.0   \n",
      "\n",
      "   snowfall  weathercode  cloudcover  cloudcover_low  cloudcover_mid  \\\n",
      "0       0.0            0           0               0               0   \n",
      "1       0.0            0           0               0               0   \n",
      "2       0.0            0           0               0               0   \n",
      "3       0.0            0           0               0               0   \n",
      "4       0.0            0           0               0               0   \n",
      "\n",
      "   cloudcover_high  windspeed_10m  windspeed_100m  winddirection_10m  \\\n",
      "0                0           24.0            39.3                246   \n",
      "1                0           24.5            39.7                244   \n",
      "2                0           24.3            39.8                243   \n",
      "3                0           24.8            40.6                242   \n",
      "4                0           24.6            40.6                243   \n",
      "\n",
      "   winddirection_100m  windgusts_10m  \n",
      "0                 249           46.4  \n",
      "1                 246           44.3  \n",
      "2                 245           42.8  \n",
      "3                 245           46.1  \n",
      "4                 245           46.8  \n"
     ]
    }
   ],
   "source": [
    "print(ord_h.head())"
   ]
  },
  {
   "cell_type": "code",
   "execution_count": 32,
   "id": "ffa26073",
   "metadata": {},
   "outputs": [
    {
     "name": "stdout",
     "output_type": "stream",
     "text": [
      "         time  weathercode  temperature_2m_max  temperature_2m_min  \\\n",
      "0  2015-01-01            1                -0.8                -8.2   \n",
      "1  2015-01-02            1                 1.0                -6.1   \n",
      "2  2015-01-03           75                 0.7                -1.7   \n",
      "3  2015-01-04           75                 0.3               -13.8   \n",
      "4  2015-01-05           73               -14.3               -19.5   \n",
      "\n",
      "   temperature_2m_mean  rain_sum  snowfall_sum  precipitation_hours  \\\n",
      "0                 -5.0       0.0          0.00                  0.0   \n",
      "1                 -2.7       0.0          0.00                  0.0   \n",
      "2                 -0.4      11.3          4.69                 16.0   \n",
      "3                 -3.8       0.0          4.90                 17.0   \n",
      "4                -16.8       0.0          0.98                  3.0   \n",
      "\n",
      "   windspeed_10m_max  windgusts_10m_max  \n",
      "0               25.3               54.7  \n",
      "1               14.5               28.1  \n",
      "2               12.0               33.8  \n",
      "3               24.3               48.6  \n",
      "4               21.5               42.5  \n"
     ]
    }
   ],
   "source": [
    "print(ord_d.head())"
   ]
  },
  {
   "cell_type": "code",
   "execution_count": 33,
   "id": "db853db4",
   "metadata": {},
   "outputs": [],
   "source": [
    "wf_hourly,wf_daily = weather_Forcast('52.52', '13.41')"
   ]
  },
  {
   "cell_type": "code",
   "execution_count": 34,
   "id": "13b0dc38",
   "metadata": {},
   "outputs": [
    {
     "name": "stdout",
     "output_type": "stream",
     "text": [
      "               time  temperature_2m  relativehumidity_2m  dewpoint_2m  \\\n",
      "0  2023-03-28T00:00             0.1                   87         -1.7   \n",
      "1  2023-03-28T01:00            -0.0                   86         -2.0   \n",
      "2  2023-03-28T02:00             0.1                   86         -2.0   \n",
      "3  2023-03-28T03:00             0.7                   80         -2.4   \n",
      "4  2023-03-28T04:00             2.1                   70         -2.9   \n",
      "\n",
      "   apparent_temperature  rain  snowfall  weathercode  cloudcover  \\\n",
      "0                  -4.2   0.0       0.0            2          51   \n",
      "1                  -4.4   0.0       0.0            3         100   \n",
      "2                  -4.2   0.0       0.0            2          71   \n",
      "3                  -3.7   0.0       0.0            1          46   \n",
      "4                  -2.5   0.0       0.0            1           7   \n",
      "\n",
      "   cloudcover_low  cloudcover_mid  cloudcover_high  windspeed_10m  \\\n",
      "0              51               0                0           13.2   \n",
      "1              42             100                0           13.2   \n",
      "2              71               0                0           12.7   \n",
      "3              46               0                0           13.8   \n",
      "4               7               0                0           14.2   \n",
      "\n",
      "   windspeed_80m  winddirection_10m  winddirection_80m  windgusts_10m  \n",
      "0           25.5                296                299           30.2  \n",
      "1           25.1                299                302           28.8  \n",
      "2           23.6                299                301           29.2  \n",
      "3           24.2                298                300           30.2  \n",
      "4           22.9                297                300           31.3  \n"
     ]
    }
   ],
   "source": [
    "print(wf_hourly.head())"
   ]
  },
  {
   "cell_type": "code",
   "execution_count": 35,
   "id": "6c42a895",
   "metadata": {},
   "outputs": [
    {
     "name": "stdout",
     "output_type": "stream",
     "text": [
      "         time  weathercode  temperature_2m_max  temperature_2m_min  rain_sum  \\\n",
      "0  2023-03-28            3                 7.0                -0.0       0.0   \n",
      "1  2023-03-29           61                 8.7                 0.8       0.5   \n",
      "2  2023-03-30           80                17.4                 7.5       1.1   \n",
      "3  2023-03-31           80                12.5                 8.2       1.4   \n",
      "4  2023-04-01           61                11.4                 7.7       3.6   \n",
      "\n",
      "   showers_sum  snowfall_sum  precipitation_hours  windspeed_10m_max  \\\n",
      "0          0.0           0.0                  0.0               21.4   \n",
      "1          0.1           0.0                  5.0               14.2   \n",
      "2          0.0           0.0                  3.0               22.1   \n",
      "3          0.5           0.0                  8.0               16.1   \n",
      "4          0.3           0.0                 18.0               10.3   \n",
      "\n",
      "   windgusts_10m_max  \n",
      "0               48.6  \n",
      "1               31.7  \n",
      "2               51.8  \n",
      "3               38.9  \n",
      "4               23.8  \n"
     ]
    }
   ],
   "source": [
    "print(wf_daily.head())"
   ]
  },
  {
   "cell_type": "code",
   "execution_count": null,
   "id": "11976bce",
   "metadata": {},
   "outputs": [],
   "source": []
  },
  {
   "cell_type": "code",
   "execution_count": null,
   "id": "5e92d31c",
   "metadata": {},
   "outputs": [],
   "source": []
  }
 ],
 "metadata": {
  "kernelspec": {
   "display_name": "Python 3 (ipykernel)",
   "language": "python",
   "name": "python3"
  },
  "language_info": {
   "codemirror_mode": {
    "name": "ipython",
    "version": 3
   },
   "file_extension": ".py",
   "mimetype": "text/x-python",
   "name": "python",
   "nbconvert_exporter": "python",
   "pygments_lexer": "ipython3",
   "version": "3.9.13"
  }
 },
 "nbformat": 4,
 "nbformat_minor": 5
}
