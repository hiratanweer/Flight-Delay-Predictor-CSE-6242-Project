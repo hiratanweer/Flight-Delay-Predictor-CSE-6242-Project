{
 "cells": [
  {
   "cell_type": "code",
   "execution_count": 47,
   "id": "e57bb8e6",
   "metadata": {},
   "outputs": [],
   "source": [
    "import pandas as pd\n",
    "import numpy as np\n",
    "from sklearn.model_selection import train_test_split\n",
    "from sklearn.preprocessing import LabelEncoder, OneHotEncoder\n",
    "from sklearn.feature_selection import SelectKBest, mutual_info_classif, f_classif\n",
    "\n",
    "from sklearn.ensemble import RandomForestClassifier\n",
    "from sklearn.metrics import confusion_matrix, classification_report, accuracy_score"
   ]
  },
  {
   "cell_type": "code",
   "execution_count": 2,
   "id": "da85e5ab",
   "metadata": {},
   "outputs": [],
   "source": [
    "flights_df = pd.read_pickle(\"flights_with_weather.pickle\")"
   ]
  },
  {
   "cell_type": "code",
   "execution_count": 3,
   "id": "be7bb952",
   "metadata": {},
   "outputs": [],
   "source": [
    "region_map = {\n",
    "    'CT': 'Northeast',\n",
    "    'ME': 'Northeast',\n",
    "    'MA': 'Northeast',\n",
    "    'NH': 'Northeast',\n",
    "    'RI': 'Northeast',\n",
    "    'VT': 'Northeast',\n",
    "    'NJ': 'Northeast',\n",
    "    'NY': 'Northeast',\n",
    "    'PA': 'Northeast',\n",
    "    'IL': 'Midwest',\n",
    "    'IN': 'Midwest',\n",
    "    'MI': 'Midwest',\n",
    "    'OH': 'Midwest',\n",
    "    'WI': 'Midwest',\n",
    "    'IA': 'Midwest',\n",
    "    'KS': 'Midwest',\n",
    "    'MN': 'Midwest',\n",
    "    'MO': 'Midwest',\n",
    "    'NE': 'Midwest',\n",
    "    'ND': 'Midwest',\n",
    "    'SD': 'Midwest',\n",
    "    'DE': 'South',\n",
    "    'FL': 'South',\n",
    "    'GA': 'South',\n",
    "    'MD': 'South',\n",
    "    'NC': 'South',\n",
    "    'SC': 'South',\n",
    "    'VA': 'South',\n",
    "    'WV': 'South',\n",
    "    'AL': 'South',\n",
    "    'KY': 'South',\n",
    "    'MS': 'South',\n",
    "    'TN': 'South',\n",
    "    'AR': 'South',\n",
    "    'LA': 'South',\n",
    "    'OK': 'South',\n",
    "    'TX': 'South',\n",
    "    'AZ': 'West',\n",
    "    'CO': 'West',\n",
    "    'ID': 'West',\n",
    "    'MT': 'West',\n",
    "    'NV': 'West',\n",
    "    'NM': 'West',\n",
    "    'UT': 'West',\n",
    "    'WY': 'West',\n",
    "    'AK': 'West',\n",
    "    'CA': 'West',\n",
    "    'HI': 'West',\n",
    "    'OR': 'West',\n",
    "    'WA': 'West',\n",
    "}\n",
    "\n",
    "flights_df['ORIGIN_REGION'] = flights_df['ORIGIN_STATE'].map(region_map)\n",
    "flights_df['DESTINATION_REGION'] = flights_df['DESTINATION_STATE'].map(region_map)"
   ]
  },
  {
   "cell_type": "code",
   "execution_count": 4,
   "id": "b95b743b",
   "metadata": {},
   "outputs": [],
   "source": [
    "flights_df['MONTH'] = flights_df['DATE'].dt.month\n",
    "flights_df['DAY_OF_WEEK'] = flights_df['DATE'].dt.dayofweek\n",
    "flights_df['D_TEMP_TIME'] = pd.to_datetime(flights_df['SCHEDULED_DEPARTURE_TIME'], format='%H:%M:%S')\n",
    "flights_df['D_HOUR'] = flights_df['D_TEMP_TIME'].dt.hour\n",
    "flights_df['A_TEMP_TIME'] = pd.to_datetime(flights_df['SCHEDULED_ARRIVAL_TIME'], format='%H:%M:%S')\n",
    "flights_df['A_HOUR'] = flights_df['A_TEMP_TIME'].dt.hour\n",
    "\n",
    "# Categorize hours into four categories - 'Morning', 'Afternoon', 'Evening', and 'Night'\n",
    "bins = [0, 6, 12, 18, 24]\n",
    "labels = ['Night', 'Morning', 'Afternoon', 'Evening']\n",
    "flights_df['SCHEDULED_DEP_TIME_CAT'] = pd.cut(flights_df['D_HOUR'], bins=bins, labels=labels, include_lowest=True)\n",
    "flights_df['SCHEDULED_ARR_TIME_CAT'] = pd.cut(flights_df['A_HOUR'], bins=bins, labels=labels, include_lowest=True)\n",
    "flights_df = flights_df.drop(columns=['D_HOUR','D_TEMP_TIME','A_HOUR','A_TEMP_TIME' ])"
   ]
  },
  {
   "cell_type": "markdown",
   "id": "f6a3c71d",
   "metadata": {},
   "source": [
    "### Adding 'DELAY' column (1 if the flight was delayed, 0 if not)"
   ]
  },
  {
   "cell_type": "code",
   "execution_count": 5,
   "id": "efe7e008",
   "metadata": {},
   "outputs": [],
   "source": [
    "flights_df['DELAYED'] = flights_df['DEPARTURE_DELAY'].apply(lambda x: 0 if x <= 0 else 1)"
   ]
  },
  {
   "cell_type": "code",
   "execution_count": 6,
   "id": "3034bc9d",
   "metadata": {},
   "outputs": [
    {
     "name": "stdout",
     "output_type": "stream",
     "text": [
      "0    3219152\n",
      "1    1941358\n",
      "Name: DELAYED, dtype: int64\n"
     ]
    }
   ],
   "source": [
    "delayed_counts = flights_df['DELAYED'].value_counts()\n",
    "print(delayed_counts)"
   ]
  },
  {
   "cell_type": "markdown",
   "id": "302ff6df",
   "metadata": {},
   "source": [
    "### Categorizing Delay"
   ]
  },
  {
   "cell_type": "code",
   "execution_count": 7,
   "id": "4b54ef2d",
   "metadata": {},
   "outputs": [],
   "source": [
    "# create new columns based on the following conditions\n",
    "conditions = [(flights_df['DEPARTURE_DELAY'] <= 0),\n",
    "    (flights_df['DEPARTURE_DELAY'] < 20) & (flights_df['DEPARTURE_DELAY'] >= 1),\n",
    "    (flights_df['DEPARTURE_DELAY'] < 40) & (flights_df['DEPARTURE_DELAY'] >= 20),\n",
    "    (flights_df['DEPARTURE_DELAY'] < 60) & (flights_df['DEPARTURE_DELAY'] >= 40),\n",
    "    (flights_df['DEPARTURE_DELAY'] >= 60)\n",
    "]\n",
    "\n",
    "values = ['ON-TIME', 'DELAY<20', '20=<DELAY<40', '40=<DELAY<60', '60=<DELAY']\n",
    "\n",
    "# Create a new column 'DELAY_CATEGORY' and assign values based on conditions\n",
    "flights_df['DELAY_CATEGORY'] = np.select(conditions, values)"
   ]
  },
  {
   "cell_type": "code",
   "execution_count": 8,
   "id": "7949167e",
   "metadata": {},
   "outputs": [
    {
     "data": {
      "text/html": [
       "<div>\n",
       "<style scoped>\n",
       "    .dataframe tbody tr th:only-of-type {\n",
       "        vertical-align: middle;\n",
       "    }\n",
       "\n",
       "    .dataframe tbody tr th {\n",
       "        vertical-align: top;\n",
       "    }\n",
       "\n",
       "    .dataframe thead th {\n",
       "        text-align: right;\n",
       "    }\n",
       "</style>\n",
       "<table border=\"1\" class=\"dataframe\">\n",
       "  <thead>\n",
       "    <tr style=\"text-align: right;\">\n",
       "      <th></th>\n",
       "      <th>DATE</th>\n",
       "      <th>AIRLINE</th>\n",
       "      <th>ORIGIN_AIRPORT</th>\n",
       "      <th>ORIGIN_CITY</th>\n",
       "      <th>ORIGIN_STATE</th>\n",
       "      <th>DESTINATION_AIRPORT</th>\n",
       "      <th>DESTINATION_CITY</th>\n",
       "      <th>DESTINATION_STATE</th>\n",
       "      <th>SCHEDULED_DEPARTURE_TIME</th>\n",
       "      <th>ACTUAL_DEPARTURE_TIME</th>\n",
       "      <th>...</th>\n",
       "      <th>DESTINATION_WINDDIRECTION_10M</th>\n",
       "      <th>DESTINATION_WINDDIRECTION_100M</th>\n",
       "      <th>ORIGIN_REGION</th>\n",
       "      <th>DESTINATION_REGION</th>\n",
       "      <th>MONTH</th>\n",
       "      <th>DAY_OF_WEEK</th>\n",
       "      <th>SCHEDULED_DEP_TIME_CAT</th>\n",
       "      <th>SCHEDULED_ARR_TIME_CAT</th>\n",
       "      <th>DELAYED</th>\n",
       "      <th>DELAY_CATEGORY</th>\n",
       "    </tr>\n",
       "  </thead>\n",
       "  <tbody>\n",
       "    <tr>\n",
       "      <th>0</th>\n",
       "      <td>2015-01-01</td>\n",
       "      <td>AS</td>\n",
       "      <td>ANC</td>\n",
       "      <td>Anchorage</td>\n",
       "      <td>AK</td>\n",
       "      <td>SEA</td>\n",
       "      <td>Seattle</td>\n",
       "      <td>WA</td>\n",
       "      <td>00:05:00</td>\n",
       "      <td>23:54:00</td>\n",
       "      <td>...</td>\n",
       "      <td>48.0</td>\n",
       "      <td>37.0</td>\n",
       "      <td>West</td>\n",
       "      <td>West</td>\n",
       "      <td>1</td>\n",
       "      <td>3</td>\n",
       "      <td>Night</td>\n",
       "      <td>Night</td>\n",
       "      <td>0</td>\n",
       "      <td>ON-TIME</td>\n",
       "    </tr>\n",
       "    <tr>\n",
       "      <th>1</th>\n",
       "      <td>2015-01-01</td>\n",
       "      <td>AS</td>\n",
       "      <td>ANC</td>\n",
       "      <td>Anchorage</td>\n",
       "      <td>AK</td>\n",
       "      <td>SEA</td>\n",
       "      <td>Seattle</td>\n",
       "      <td>WA</td>\n",
       "      <td>00:45:00</td>\n",
       "      <td>00:41:00</td>\n",
       "      <td>...</td>\n",
       "      <td>74.0</td>\n",
       "      <td>63.0</td>\n",
       "      <td>West</td>\n",
       "      <td>West</td>\n",
       "      <td>1</td>\n",
       "      <td>3</td>\n",
       "      <td>Night</td>\n",
       "      <td>Night</td>\n",
       "      <td>0</td>\n",
       "      <td>ON-TIME</td>\n",
       "    </tr>\n",
       "    <tr>\n",
       "      <th>2</th>\n",
       "      <td>2015-01-01</td>\n",
       "      <td>DL</td>\n",
       "      <td>ANC</td>\n",
       "      <td>Anchorage</td>\n",
       "      <td>AK</td>\n",
       "      <td>SEA</td>\n",
       "      <td>Seattle</td>\n",
       "      <td>WA</td>\n",
       "      <td>00:45:00</td>\n",
       "      <td>00:31:00</td>\n",
       "      <td>...</td>\n",
       "      <td>74.0</td>\n",
       "      <td>63.0</td>\n",
       "      <td>West</td>\n",
       "      <td>West</td>\n",
       "      <td>1</td>\n",
       "      <td>3</td>\n",
       "      <td>Night</td>\n",
       "      <td>Night</td>\n",
       "      <td>0</td>\n",
       "      <td>ON-TIME</td>\n",
       "    </tr>\n",
       "    <tr>\n",
       "      <th>3</th>\n",
       "      <td>2015-01-01</td>\n",
       "      <td>AS</td>\n",
       "      <td>ANC</td>\n",
       "      <td>Anchorage</td>\n",
       "      <td>AK</td>\n",
       "      <td>SEA</td>\n",
       "      <td>Seattle</td>\n",
       "      <td>WA</td>\n",
       "      <td>01:55:00</td>\n",
       "      <td>01:40:00</td>\n",
       "      <td>...</td>\n",
       "      <td>74.0</td>\n",
       "      <td>69.0</td>\n",
       "      <td>West</td>\n",
       "      <td>West</td>\n",
       "      <td>1</td>\n",
       "      <td>3</td>\n",
       "      <td>Night</td>\n",
       "      <td>Night</td>\n",
       "      <td>0</td>\n",
       "      <td>ON-TIME</td>\n",
       "    </tr>\n",
       "    <tr>\n",
       "      <th>4</th>\n",
       "      <td>2015-01-01</td>\n",
       "      <td>AS</td>\n",
       "      <td>ANC</td>\n",
       "      <td>Anchorage</td>\n",
       "      <td>AK</td>\n",
       "      <td>SEA</td>\n",
       "      <td>Seattle</td>\n",
       "      <td>WA</td>\n",
       "      <td>02:20:00</td>\n",
       "      <td>02:09:00</td>\n",
       "      <td>...</td>\n",
       "      <td>74.0</td>\n",
       "      <td>69.0</td>\n",
       "      <td>West</td>\n",
       "      <td>West</td>\n",
       "      <td>1</td>\n",
       "      <td>3</td>\n",
       "      <td>Night</td>\n",
       "      <td>Night</td>\n",
       "      <td>0</td>\n",
       "      <td>ON-TIME</td>\n",
       "    </tr>\n",
       "    <tr>\n",
       "      <th>...</th>\n",
       "      <td>...</td>\n",
       "      <td>...</td>\n",
       "      <td>...</td>\n",
       "      <td>...</td>\n",
       "      <td>...</td>\n",
       "      <td>...</td>\n",
       "      <td>...</td>\n",
       "      <td>...</td>\n",
       "      <td>...</td>\n",
       "      <td>...</td>\n",
       "      <td>...</td>\n",
       "      <td>...</td>\n",
       "      <td>...</td>\n",
       "      <td>...</td>\n",
       "      <td>...</td>\n",
       "      <td>...</td>\n",
       "      <td>...</td>\n",
       "      <td>...</td>\n",
       "      <td>...</td>\n",
       "      <td>...</td>\n",
       "      <td>...</td>\n",
       "    </tr>\n",
       "    <tr>\n",
       "      <th>5231124</th>\n",
       "      <td>2015-12-29</td>\n",
       "      <td>OO</td>\n",
       "      <td>JMS</td>\n",
       "      <td>Jamestown</td>\n",
       "      <td>ND</td>\n",
       "      <td>DVL</td>\n",
       "      <td>Devils Lake</td>\n",
       "      <td>ND</td>\n",
       "      <td>14:31:00</td>\n",
       "      <td>14:28:00</td>\n",
       "      <td>...</td>\n",
       "      <td>343.0</td>\n",
       "      <td>347.0</td>\n",
       "      <td>Midwest</td>\n",
       "      <td>Midwest</td>\n",
       "      <td>12</td>\n",
       "      <td>1</td>\n",
       "      <td>Afternoon</td>\n",
       "      <td>Afternoon</td>\n",
       "      <td>0</td>\n",
       "      <td>ON-TIME</td>\n",
       "    </tr>\n",
       "    <tr>\n",
       "      <th>5231125</th>\n",
       "      <td>2015-12-29</td>\n",
       "      <td>OO</td>\n",
       "      <td>JMS</td>\n",
       "      <td>Jamestown</td>\n",
       "      <td>ND</td>\n",
       "      <td>DVL</td>\n",
       "      <td>Devils Lake</td>\n",
       "      <td>ND</td>\n",
       "      <td>23:56:00</td>\n",
       "      <td>23:35:00</td>\n",
       "      <td>...</td>\n",
       "      <td>104.0</td>\n",
       "      <td>109.0</td>\n",
       "      <td>Midwest</td>\n",
       "      <td>Midwest</td>\n",
       "      <td>12</td>\n",
       "      <td>1</td>\n",
       "      <td>Evening</td>\n",
       "      <td>Night</td>\n",
       "      <td>0</td>\n",
       "      <td>ON-TIME</td>\n",
       "    </tr>\n",
       "    <tr>\n",
       "      <th>5231126</th>\n",
       "      <td>2015-12-30</td>\n",
       "      <td>OO</td>\n",
       "      <td>JMS</td>\n",
       "      <td>Jamestown</td>\n",
       "      <td>ND</td>\n",
       "      <td>DVL</td>\n",
       "      <td>Devils Lake</td>\n",
       "      <td>ND</td>\n",
       "      <td>14:31:00</td>\n",
       "      <td>14:19:00</td>\n",
       "      <td>...</td>\n",
       "      <td>270.0</td>\n",
       "      <td>268.0</td>\n",
       "      <td>Midwest</td>\n",
       "      <td>Midwest</td>\n",
       "      <td>12</td>\n",
       "      <td>2</td>\n",
       "      <td>Afternoon</td>\n",
       "      <td>Afternoon</td>\n",
       "      <td>0</td>\n",
       "      <td>ON-TIME</td>\n",
       "    </tr>\n",
       "    <tr>\n",
       "      <th>5231127</th>\n",
       "      <td>2015-12-30</td>\n",
       "      <td>OO</td>\n",
       "      <td>JMS</td>\n",
       "      <td>Jamestown</td>\n",
       "      <td>ND</td>\n",
       "      <td>DVL</td>\n",
       "      <td>Devils Lake</td>\n",
       "      <td>ND</td>\n",
       "      <td>23:56:00</td>\n",
       "      <td>23:23:00</td>\n",
       "      <td>...</td>\n",
       "      <td>69.0</td>\n",
       "      <td>76.0</td>\n",
       "      <td>Midwest</td>\n",
       "      <td>Midwest</td>\n",
       "      <td>12</td>\n",
       "      <td>2</td>\n",
       "      <td>Evening</td>\n",
       "      <td>Night</td>\n",
       "      <td>0</td>\n",
       "      <td>ON-TIME</td>\n",
       "    </tr>\n",
       "    <tr>\n",
       "      <th>5231128</th>\n",
       "      <td>2015-12-31</td>\n",
       "      <td>OO</td>\n",
       "      <td>JMS</td>\n",
       "      <td>Jamestown</td>\n",
       "      <td>ND</td>\n",
       "      <td>DVL</td>\n",
       "      <td>Devils Lake</td>\n",
       "      <td>ND</td>\n",
       "      <td>14:31:00</td>\n",
       "      <td>14:31:00</td>\n",
       "      <td>...</td>\n",
       "      <td>301.0</td>\n",
       "      <td>303.0</td>\n",
       "      <td>Midwest</td>\n",
       "      <td>Midwest</td>\n",
       "      <td>12</td>\n",
       "      <td>3</td>\n",
       "      <td>Afternoon</td>\n",
       "      <td>Afternoon</td>\n",
       "      <td>0</td>\n",
       "      <td>ON-TIME</td>\n",
       "    </tr>\n",
       "  </tbody>\n",
       "</table>\n",
       "<p>5160510 rows × 61 columns</p>\n",
       "</div>"
      ],
      "text/plain": [
       "              DATE AIRLINE ORIGIN_AIRPORT ORIGIN_CITY ORIGIN_STATE  \\\n",
       "0       2015-01-01      AS            ANC   Anchorage           AK   \n",
       "1       2015-01-01      AS            ANC   Anchorage           AK   \n",
       "2       2015-01-01      DL            ANC   Anchorage           AK   \n",
       "3       2015-01-01      AS            ANC   Anchorage           AK   \n",
       "4       2015-01-01      AS            ANC   Anchorage           AK   \n",
       "...            ...     ...            ...         ...          ...   \n",
       "5231124 2015-12-29      OO            JMS   Jamestown           ND   \n",
       "5231125 2015-12-29      OO            JMS   Jamestown           ND   \n",
       "5231126 2015-12-30      OO            JMS   Jamestown           ND   \n",
       "5231127 2015-12-30      OO            JMS   Jamestown           ND   \n",
       "5231128 2015-12-31      OO            JMS   Jamestown           ND   \n",
       "\n",
       "        DESTINATION_AIRPORT DESTINATION_CITY DESTINATION_STATE  \\\n",
       "0                       SEA          Seattle                WA   \n",
       "1                       SEA          Seattle                WA   \n",
       "2                       SEA          Seattle                WA   \n",
       "3                       SEA          Seattle                WA   \n",
       "4                       SEA          Seattle                WA   \n",
       "...                     ...              ...               ...   \n",
       "5231124                 DVL      Devils Lake                ND   \n",
       "5231125                 DVL      Devils Lake                ND   \n",
       "5231126                 DVL      Devils Lake                ND   \n",
       "5231127                 DVL      Devils Lake                ND   \n",
       "5231128                 DVL      Devils Lake                ND   \n",
       "\n",
       "        SCHEDULED_DEPARTURE_TIME ACTUAL_DEPARTURE_TIME  ...  \\\n",
       "0                       00:05:00              23:54:00  ...   \n",
       "1                       00:45:00              00:41:00  ...   \n",
       "2                       00:45:00              00:31:00  ...   \n",
       "3                       01:55:00              01:40:00  ...   \n",
       "4                       02:20:00              02:09:00  ...   \n",
       "...                          ...                   ...  ...   \n",
       "5231124                 14:31:00              14:28:00  ...   \n",
       "5231125                 23:56:00              23:35:00  ...   \n",
       "5231126                 14:31:00              14:19:00  ...   \n",
       "5231127                 23:56:00              23:23:00  ...   \n",
       "5231128                 14:31:00              14:31:00  ...   \n",
       "\n",
       "         DESTINATION_WINDDIRECTION_10M DESTINATION_WINDDIRECTION_100M  \\\n",
       "0                                 48.0                           37.0   \n",
       "1                                 74.0                           63.0   \n",
       "2                                 74.0                           63.0   \n",
       "3                                 74.0                           69.0   \n",
       "4                                 74.0                           69.0   \n",
       "...                                ...                            ...   \n",
       "5231124                          343.0                          347.0   \n",
       "5231125                          104.0                          109.0   \n",
       "5231126                          270.0                          268.0   \n",
       "5231127                           69.0                           76.0   \n",
       "5231128                          301.0                          303.0   \n",
       "\n",
       "        ORIGIN_REGION  DESTINATION_REGION  MONTH  DAY_OF_WEEK  \\\n",
       "0                West                West      1            3   \n",
       "1                West                West      1            3   \n",
       "2                West                West      1            3   \n",
       "3                West                West      1            3   \n",
       "4                West                West      1            3   \n",
       "...               ...                 ...    ...          ...   \n",
       "5231124       Midwest             Midwest     12            1   \n",
       "5231125       Midwest             Midwest     12            1   \n",
       "5231126       Midwest             Midwest     12            2   \n",
       "5231127       Midwest             Midwest     12            2   \n",
       "5231128       Midwest             Midwest     12            3   \n",
       "\n",
       "         SCHEDULED_DEP_TIME_CAT  SCHEDULED_ARR_TIME_CAT  DELAYED  \\\n",
       "0                         Night                   Night        0   \n",
       "1                         Night                   Night        0   \n",
       "2                         Night                   Night        0   \n",
       "3                         Night                   Night        0   \n",
       "4                         Night                   Night        0   \n",
       "...                         ...                     ...      ...   \n",
       "5231124               Afternoon               Afternoon        0   \n",
       "5231125                 Evening                   Night        0   \n",
       "5231126               Afternoon               Afternoon        0   \n",
       "5231127                 Evening                   Night        0   \n",
       "5231128               Afternoon               Afternoon        0   \n",
       "\n",
       "         DELAY_CATEGORY  \n",
       "0               ON-TIME  \n",
       "1               ON-TIME  \n",
       "2               ON-TIME  \n",
       "3               ON-TIME  \n",
       "4               ON-TIME  \n",
       "...                 ...  \n",
       "5231124         ON-TIME  \n",
       "5231125         ON-TIME  \n",
       "5231126         ON-TIME  \n",
       "5231127         ON-TIME  \n",
       "5231128         ON-TIME  \n",
       "\n",
       "[5160510 rows x 61 columns]"
      ]
     },
     "execution_count": 8,
     "metadata": {},
     "output_type": "execute_result"
    }
   ],
   "source": [
    "flights_df"
   ]
  },
  {
   "cell_type": "code",
   "execution_count": 9,
   "id": "44940c22",
   "metadata": {},
   "outputs": [
    {
     "name": "stdout",
     "output_type": "stream",
     "text": [
      "ON-TIME         3219152\n",
      "DELAY<20        1123062\n",
      "20=<DELAY<40     346758\n",
      "60=<DELAY        305987\n",
      "40=<DELAY<60     165551\n",
      "Name: DELAY_CATEGORY, dtype: int64\n"
     ]
    }
   ],
   "source": [
    "category_counts = flights_df['DELAY_CATEGORY'].value_counts()\n",
    "print(category_counts)\n"
   ]
  },
  {
   "cell_type": "code",
   "execution_count": 10,
   "id": "eed234dd",
   "metadata": {},
   "outputs": [],
   "source": [
    "selected_cols1 = ['MONTH', 'DAY_OF_WEEK',\n",
    "        'AIRLINE', 'ORIGIN_AIRPORT',\n",
    "       'DESTINATION_AIRPORT', 'SCHEDULED_DEP_TIME_CAT',\n",
    "       'DEPARTURE_DELAY', 'SCHEDULED_ARR_TIME_CAT',\n",
    "       'ARRIVAL_DELAY',\n",
    "       'SCHEDULED_TIME', 'DISTANCE', 'ORIGIN_REGION','DESTINATION_REGION','DELAYED','DELAY_CATEGORY']\n",
    "\n",
    "selected_cols2 = ['MONTH', 'DAY_OF_WEEK',\n",
    "        'AIRLINE', 'ORIGIN_AIRPORT', \n",
    "       'DESTINATION_AIRPORT', 'SCHEDULED_DEP_TIME_CAT',\n",
    "       'DEPARTURE_DELAY', 'SCHEDULED_ARR_TIME_CAT',\n",
    "       'ARRIVAL_DELAY',\n",
    "       'SCHEDULED_TIME', 'DISTANCE', 'ORIGIN_TEMPERATURE_2M',\n",
    "       'ORIGIN_RELATIVEHUMIDITY_2M', 'ORIGIN_DEWPOINT_2M',\n",
    "       'ORIGIN_APPARENT_TEMPERATURE', 'ORIGIN_PRESSURE_MSL',\n",
    "       'ORIGIN_SURFACE_PRESSURE', 'ORIGIN_PRECIPITATION', 'ORIGIN_RAIN',\n",
    "       'ORIGIN_SNOWFALL', 'ORIGIN_WEATHERCODE', 'ORIGIN_CLOUDCOVER',\n",
    "       'ORIGIN_CLOUDCOVER_LOW', 'ORIGIN_CLOUDCOVER_MID',\n",
    "       'ORIGIN_CLOUDCOVER_HIGH', 'ORIGIN_WINDSPEED_10M',\n",
    "       'ORIGIN_WINDSPEED_100M', 'ORIGIN_WINDDIRECTION_10M',\n",
    "       'ORIGIN_WINDDIRECTION_100M', 'DESTINATION_TEMPERATURE_2M',\n",
    "       'DESTINATION_RELATIVEHUMIDITY_2M', 'DESTINATION_DEWPOINT_2M',\n",
    "       'DESTINATION_APPARENT_TEMPERATURE', 'DESTINATION_PRESSURE_MSL',\n",
    "       'DESTINATION_SURFACE_PRESSURE', 'DESTINATION_PRECIPITATION',\n",
    "       'DESTINATION_RAIN', 'DESTINATION_SNOWFALL', 'DESTINATION_WEATHERCODE',\n",
    "       'DESTINATION_CLOUDCOVER', 'DESTINATION_CLOUDCOVER_LOW',\n",
    "       'DESTINATION_CLOUDCOVER_MID', 'DESTINATION_CLOUDCOVER_HIGH',\n",
    "       'DESTINATION_WINDSPEED_10M', 'DESTINATION_WINDSPEED_100M',\n",
    "       'DESTINATION_WINDDIRECTION_10M', 'DESTINATION_WINDDIRECTION_100M','ORIGIN_REGION','DESTINATION_REGION',\n",
    "       'DELAYED', 'DELAY_CATEGORY']\n",
    "\n",
    "flights_wo_weather = flights_df.loc[:, selected_cols1]\n",
    "flights_w_weather = flights_df.loc[:, selected_cols2]"
   ]
  },
  {
   "cell_type": "markdown",
   "id": "dddd83ef",
   "metadata": {},
   "source": [
    "# Flights within the Midwest"
   ]
  },
  {
   "cell_type": "code",
   "execution_count": 72,
   "id": "3b82d7b5",
   "metadata": {},
   "outputs": [],
   "source": [
    "flights_MW = flights_w_weather[(flights_w_weather['ORIGIN_REGION'] == 'Midwest') & (flights_w_weather['DESTINATION_REGION'] == 'Midwest')]"
   ]
  },
  {
   "cell_type": "markdown",
   "id": "8ac0fe62",
   "metadata": {},
   "source": [
    "## Binary Classification:"
   ]
  },
  {
   "cell_type": "code",
   "execution_count": 73,
   "id": "2685ad4f",
   "metadata": {},
   "outputs": [],
   "source": [
    "# Encode categorical variables using one-hot encoding\n",
    "flights_MW = pd.get_dummies(flights_MW, columns=['MONTH', 'DAY_OF_WEEK','AIRLINE', 'ORIGIN_AIRPORT', 'DESTINATION_AIRPORT', 'SCHEDULED_DEP_TIME_CAT', 'SCHEDULED_ARR_TIME_CAT'])\n",
    "\n",
    "# Split the dataset into training and testing sets\n",
    "X_MW = flights_MW.drop(['DELAYED','ORIGIN_REGION','DESTINATION_REGION','DEPARTURE_DELAY','ARRIVAL_DELAY','DELAY_CATEGORY'], axis=1)\n",
    "y_MW = flights_MW['DELAYED']\n",
    "X_train_MW, X_test_MW, y_train_MW, y_test_MW = train_test_split(X_MW, y_MW, test_size=0.3, random_state=123)\n"
   ]
  },
  {
   "cell_type": "markdown",
   "id": "f2540bb5",
   "metadata": {},
   "source": [
    "### Balancing the data"
   ]
  },
  {
   "cell_type": "code",
   "execution_count": 74,
   "id": "3e350a87",
   "metadata": {},
   "outputs": [],
   "source": [
    "from imblearn.over_sampling import RandomOverSampler\n",
    "\n",
    "# Instantiate RandomOverSampler\n",
    "ros = RandomOverSampler(random_state=123)\n",
    "\n",
    "# Balance the data using RandomOverSampler\n",
    "X_train_balanced_MW, y_train_balanced_MW = ros.fit_resample(X_train_MW, y_train_MW)\n"
   ]
  },
  {
   "cell_type": "markdown",
   "id": "df1abd3f",
   "metadata": {},
   "source": [
    "### Feature Selection"
   ]
  },
  {
   "cell_type": "code",
   "execution_count": 75,
   "id": "7cb4d022",
   "metadata": {},
   "outputs": [
    {
     "name": "stdout",
     "output_type": "stream",
     "text": [
      "Size before feature selection: (320862, 213) (100905, 213)\n",
      "Size after feature selection: (320862, 20) (100905, 20)\n"
     ]
    }
   ],
   "source": [
    "# Perform feature selection using ANOVA F-value between label/feature\n",
    "print(\"Size before feature selection:\",X_train_balanced_MW.shape, X_test_MW.shape)\n",
    "selector = SelectKBest(f_classif, k=20)\n",
    "X_train_selected_MW = selector.fit_transform(X_train_balanced_MW, y_train_balanced_MW)\n",
    "X_test_MW = selector.transform(X_test_MW)\n",
    "print(\"Size after feature selection:\",X_train_selected_MW.shape, X_test_MW.shape)\n"
   ]
  },
  {
   "cell_type": "markdown",
   "id": "1885819f",
   "metadata": {},
   "source": [
    "#### Selected features for binary classification"
   ]
  },
  {
   "cell_type": "code",
   "execution_count": 76,
   "id": "fba3933a",
   "metadata": {},
   "outputs": [
    {
     "name": "stdout",
     "output_type": "stream",
     "text": [
      "Index(['ORIGIN_SNOWFALL', 'ORIGIN_WEATHERCODE', 'ORIGIN_CLOUDCOVER',\n",
      "       'ORIGIN_CLOUDCOVER_LOW', 'ORIGIN_CLOUDCOVER_MID',\n",
      "       'DESTINATION_WEATHERCODE', 'DESTINATION_CLOUDCOVER',\n",
      "       'DESTINATION_CLOUDCOVER_LOW', 'MONTH_2', 'AIRLINE_UA', 'AIRLINE_WN',\n",
      "       'ORIGIN_AIRPORT_MDW', 'ORIGIN_AIRPORT_ORD',\n",
      "       'SCHEDULED_DEP_TIME_CAT_Night', 'SCHEDULED_DEP_TIME_CAT_Morning',\n",
      "       'SCHEDULED_DEP_TIME_CAT_Afternoon', 'SCHEDULED_DEP_TIME_CAT_Evening',\n",
      "       'SCHEDULED_ARR_TIME_CAT_Night', 'SCHEDULED_ARR_TIME_CAT_Morning',\n",
      "       'SCHEDULED_ARR_TIME_CAT_Evening'],\n",
      "      dtype='object')\n"
     ]
    }
   ],
   "source": [
    "# Print the selected feature names\n",
    "selected_features_binC_MW = X_MW.columns[selector.get_support()]\n",
    "print(selected_features_binC_MW)"
   ]
  },
  {
   "cell_type": "markdown",
   "id": "19bb1dd6",
   "metadata": {},
   "source": [
    "### Training binary RFC"
   ]
  },
  {
   "cell_type": "code",
   "execution_count": 77,
   "id": "b46b359b",
   "metadata": {},
   "outputs": [],
   "source": [
    "rfc = RandomForestClassifier(random_state= 123)\n",
    "\n",
    "# Train the model on the training set\n",
    "binC_MW = rfc.fit(X_train_selected_MW, y_train_balanced_MW)\n",
    "\n"
   ]
  },
  {
   "cell_type": "code",
   "execution_count": 78,
   "id": "4144d897",
   "metadata": {},
   "outputs": [
    {
     "name": "stdout",
     "output_type": "stream",
     "text": [
      "Binary Classification Results for Flights within the Midwest\n",
      "Accuracy Score: 0.6531688221594569\n",
      "              precision    recall  f1-score   support\n",
      "\n",
      "     ON TIME       0.74      0.76      0.75     68920\n",
      "     DELAYED       0.45      0.42      0.43     31985\n",
      "\n",
      "    accuracy                           0.65    100905\n",
      "   macro avg       0.59      0.59      0.59    100905\n",
      "weighted avg       0.65      0.65      0.65    100905\n",
      "\n"
     ]
    }
   ],
   "source": [
    "# Evaluate the model on the testing set\n",
    "y_pred_MW = binC_MW.predict(X_test_MW)\n",
    "print(\"Binary Classification Results for Flights within the Midwest\")\n",
    "print(\"Accuracy Score:\", accuracy_score(y_test_MW,y_pred_MW))\n",
    "target_names = ['ON TIME', 'DELAYED']\n",
    "print(classification_report(y_test_MW, y_pred_MW, target_names=target_names))\n"
   ]
  },
  {
   "cell_type": "markdown",
   "id": "9e909fa8",
   "metadata": {},
   "source": [
    "## Multiclass Classification"
   ]
  },
  {
   "cell_type": "code",
   "execution_count": 87,
   "id": "93e04638",
   "metadata": {},
   "outputs": [],
   "source": [
    "X_MW = flights_MW.drop(['DELAYED','ORIGIN_REGION','DESTINATION_REGION','DEPARTURE_DELAY','ARRIVAL_DELAY','DELAY_CATEGORY'], axis=1)\n",
    "y_MW = flights_MW['DELAY_CATEGORY']\n",
    "\n",
    "X_train_MW, X_test_MW, y_train_MW, y_test_MW = train_test_split(X_MW, y_MW, test_size=0.3, random_state=123)\n"
   ]
  },
  {
   "cell_type": "markdown",
   "id": "535cb8c6",
   "metadata": {},
   "source": [
    "### Balancing the data"
   ]
  },
  {
   "cell_type": "code",
   "execution_count": 89,
   "id": "c0f30311",
   "metadata": {},
   "outputs": [],
   "source": [
    "# Balance the dataset using RandomOverSampler\n",
    "X_train_balanced_MW, y_train_balanced_MW = ros.fit_resample(X_train_MW, y_train_MW)"
   ]
  },
  {
   "cell_type": "code",
   "execution_count": 90,
   "id": "a9f6de25",
   "metadata": {},
   "outputs": [
    {
     "name": "stdout",
     "output_type": "stream",
     "text": [
      "Before balancing: ON-TIME         160431\n",
      "DELAY<20         39484\n",
      "60=<DELAY        14393\n",
      "20=<DELAY<40     13793\n",
      "40=<DELAY<60      7343\n",
      "Name: DELAY_CATEGORY, dtype: int64\n",
      "After balancing: 20=<DELAY<40    160431\n",
      "ON-TIME         160431\n",
      "40=<DELAY<60    160431\n",
      "DELAY<20        160431\n",
      "60=<DELAY       160431\n",
      "Name: DELAY_CATEGORY, dtype: int64\n"
     ]
    }
   ],
   "source": [
    "before_balancing = y_train_MW.value_counts()\n",
    "print(\"Before balancing:\",before_balancing)\n",
    "after_balancing = y_train_balanced_MW.value_counts()\n",
    "print(\"After balancing:\",after_balancing)\n"
   ]
  },
  {
   "cell_type": "markdown",
   "id": "ebaf2062",
   "metadata": {},
   "source": [
    "### Feature selection"
   ]
  },
  {
   "cell_type": "code",
   "execution_count": 91,
   "id": "0d133c6f",
   "metadata": {},
   "outputs": [
    {
     "name": "stdout",
     "output_type": "stream",
     "text": [
      "Size before feature selection: (802155, 213) (100905, 213)\n",
      "Size after feature selection: (802155, 20) (100905, 20)\n"
     ]
    }
   ],
   "source": [
    "# Perform feature selection using ANOVA F-value between label/feature\n",
    "print(\"Size before feature selection:\",X_train_balanced_MW.shape, X_test_MW.shape)\n",
    "selector = SelectKBest(f_classif, k=20)\n",
    "X_train_selected_MW = selector.fit_transform(X_train_balanced_MW, y_train_balanced_MW)\n",
    "X_test_MW = selector.transform(X_test_MW)\n",
    "print(\"Size after feature selection:\",X_train_selected_MW.shape, X_test_MW.shape)"
   ]
  },
  {
   "cell_type": "markdown",
   "id": "bc2981ea",
   "metadata": {},
   "source": [
    "#### Features selected for multicategory classifcation"
   ]
  },
  {
   "cell_type": "code",
   "execution_count": 92,
   "id": "e30ff730",
   "metadata": {},
   "outputs": [
    {
     "name": "stdout",
     "output_type": "stream",
     "text": [
      "Index(['ORIGIN_SNOWFALL', 'ORIGIN_WEATHERCODE', 'ORIGIN_CLOUDCOVER',\n",
      "       'ORIGIN_CLOUDCOVER_LOW', 'ORIGIN_CLOUDCOVER_MID',\n",
      "       'DESTINATION_TEMPERATURE_2M', 'DESTINATION_WEATHERCODE',\n",
      "       'DESTINATION_CLOUDCOVER', 'DESTINATION_CLOUDCOVER_LOW',\n",
      "       'DESTINATION_CLOUDCOVER_MID', 'MONTH_2', 'AIRLINE_DL', 'AIRLINE_WN',\n",
      "       'ORIGIN_AIRPORT_ORD', 'SCHEDULED_DEP_TIME_CAT_Night',\n",
      "       'SCHEDULED_DEP_TIME_CAT_Morning', 'SCHEDULED_DEP_TIME_CAT_Afternoon',\n",
      "       'SCHEDULED_ARR_TIME_CAT_Night', 'SCHEDULED_ARR_TIME_CAT_Morning',\n",
      "       'SCHEDULED_ARR_TIME_CAT_Evening'],\n",
      "      dtype='object')\n"
     ]
    }
   ],
   "source": [
    "selected_features_mulC_MW = X_MW.columns[selector.get_support()]\n",
    "print(selected_features_mulC_MW)"
   ]
  },
  {
   "cell_type": "markdown",
   "id": "0288a295",
   "metadata": {},
   "source": [
    "### Training multiclass RFC"
   ]
  },
  {
   "cell_type": "code",
   "execution_count": 93,
   "id": "01f305b9",
   "metadata": {},
   "outputs": [],
   "source": [
    "# Train a Random Forest classifier\n",
    "rfc_MW = rfc.fit(X_train_selected_MW, y_train_balanced_MW)\n",
    "y_pred_MW = rfc_MW.predict(X_test_MW)"
   ]
  },
  {
   "cell_type": "code",
   "execution_count": 94,
   "id": "ab287213",
   "metadata": {},
   "outputs": [
    {
     "name": "stdout",
     "output_type": "stream",
     "text": [
      "Multiclass Classification Results for Flights within the Midwest\n",
      "Accuracy Score: 0.6077498637332144\n",
      "              precision    recall  f1-score   support\n",
      "\n",
      "20=<DELAY<40       0.10      0.06      0.07      5823\n",
      "40=<DELAY<60       0.06      0.04      0.05      3134\n",
      "   60=<DELAY       0.23      0.16      0.19      6112\n",
      "    DELAY<20       0.23      0.17      0.20     16916\n",
      "     ON-TIME       0.72      0.83      0.77     68920\n",
      "\n",
      "    accuracy                           0.61    100905\n",
      "   macro avg       0.27      0.25      0.26    100905\n",
      "weighted avg       0.56      0.61      0.58    100905\n",
      "\n"
     ]
    }
   ],
   "source": [
    "# Get the classification report for each class\n",
    "print(\"Multiclass Classification Results for Flights within the Midwest\")\n",
    "print(\"Accuracy Score:\", accuracy_score(y_test_MW,y_pred_MW))\n",
    "print(classification_report(y_test_MW, y_pred_MW))"
   ]
  },
  {
   "cell_type": "markdown",
   "id": "ca4d10e5",
   "metadata": {},
   "source": [
    "# Flights within the Northeast:"
   ]
  },
  {
   "cell_type": "code",
   "execution_count": 65,
   "id": "52cc71e3",
   "metadata": {},
   "outputs": [],
   "source": [
    "flights_NE = flights_w_weather[(flights_w_weather['ORIGIN_REGION'] == 'Northeast') & (flights_w_weather['DESTINATION_REGION'] == 'Northeast')]"
   ]
  },
  {
   "cell_type": "markdown",
   "id": "f3a3b50c",
   "metadata": {},
   "source": [
    "## Binary Classification:"
   ]
  },
  {
   "cell_type": "code",
   "execution_count": 66,
   "id": "19b080a8",
   "metadata": {},
   "outputs": [],
   "source": [
    "# Encode categorical variables using one-hot encoding\n",
    "flights_NE = pd.get_dummies(flights_NE, columns=['MONTH', 'DAY_OF_WEEK','AIRLINE', 'ORIGIN_AIRPORT', 'DESTINATION_AIRPORT', 'SCHEDULED_DEP_TIME_CAT', 'SCHEDULED_ARR_TIME_CAT'])\n",
    "\n",
    "# Split the dataset into training and testing sets\n",
    "X_NE = flights_NE.drop(['DELAYED','ORIGIN_REGION','DESTINATION_REGION','DEPARTURE_DELAY','ARRIVAL_DELAY','DELAY_CATEGORY'], axis=1)\n",
    "y_NE = flights_NE['DELAYED']\n",
    "X_train_NE, X_test_NE, y_train_NE, y_test_NE = train_test_split(X_NE, y_NE, test_size=0.3, random_state=123)\n"
   ]
  },
  {
   "cell_type": "markdown",
   "id": "fa159873",
   "metadata": {},
   "source": [
    "### Balancing the data"
   ]
  },
  {
   "cell_type": "code",
   "execution_count": 67,
   "id": "0596c0ec",
   "metadata": {},
   "outputs": [],
   "source": [
    "# Balance the data using RandomOverSampler\n",
    "X_train_balanced_NE, y_train_balanced_NE = ros.fit_resample(X_train_NE, y_train_NE)\n"
   ]
  },
  {
   "cell_type": "markdown",
   "id": "e519030a",
   "metadata": {},
   "source": [
    "### Feature Selection"
   ]
  },
  {
   "cell_type": "code",
   "execution_count": 68,
   "id": "7636521b",
   "metadata": {},
   "outputs": [
    {
     "name": "stdout",
     "output_type": "stream",
     "text": [
      "Size before feature selection: (72424, 114) (22995, 114)\n",
      "Size after feature selection: (72424, 20) (22995, 20)\n"
     ]
    }
   ],
   "source": [
    "# Perform feature selection using ANOVA F-value between label/feature\n",
    "print(\"Size before feature selection:\",X_train_balanced_NE.shape, X_test_NE.shape)\n",
    "X_train_selected_NE = selector.fit_transform(X_train_balanced_NE, y_train_balanced_NE)\n",
    "X_test_NE = selector.transform(X_test_NE)\n",
    "print(\"Size after feature selection:\",X_train_selected_NE.shape, X_test_NE.shape)\n"
   ]
  },
  {
   "cell_type": "markdown",
   "id": "48dce8b9",
   "metadata": {},
   "source": [
    "#### Selected features for binary classification"
   ]
  },
  {
   "cell_type": "code",
   "execution_count": 69,
   "id": "6afecfe0",
   "metadata": {},
   "outputs": [
    {
     "name": "stdout",
     "output_type": "stream",
     "text": [
      "Index(['ORIGIN_WEATHERCODE', 'ORIGIN_CLOUDCOVER', 'ORIGIN_CLOUDCOVER_LOW',\n",
      "       'ORIGIN_CLOUDCOVER_MID', 'ORIGIN_WINDSPEED_10M',\n",
      "       'ORIGIN_WINDSPEED_100M', 'DESTINATION_PRESSURE_MSL',\n",
      "       'DESTINATION_WEATHERCODE', 'DESTINATION_CLOUDCOVER',\n",
      "       'DESTINATION_CLOUDCOVER_LOW', 'DESTINATION_WINDSPEED_10M',\n",
      "       'DESTINATION_WINDSPEED_100M', 'MONTH_2', 'AIRLINE_UA',\n",
      "       'SCHEDULED_DEP_TIME_CAT_Night', 'SCHEDULED_DEP_TIME_CAT_Morning',\n",
      "       'SCHEDULED_DEP_TIME_CAT_Afternoon', 'SCHEDULED_DEP_TIME_CAT_Evening',\n",
      "       'SCHEDULED_ARR_TIME_CAT_Morning', 'SCHEDULED_ARR_TIME_CAT_Evening'],\n",
      "      dtype='object')\n"
     ]
    }
   ],
   "source": [
    "# Print the selected feature names\n",
    "selected_features_binC_NE = X_NE.columns[selector.get_support()]\n",
    "print(selected_features_binC_NE)"
   ]
  },
  {
   "cell_type": "markdown",
   "id": "89f25c22",
   "metadata": {},
   "source": [
    "### Training binary RFC"
   ]
  },
  {
   "cell_type": "code",
   "execution_count": 70,
   "id": "34cb5aaf",
   "metadata": {},
   "outputs": [],
   "source": [
    "# Train the model on the training set\n",
    "binC_NE = rfc.fit(X_train_selected_NE, y_train_balanced_NE)"
   ]
  },
  {
   "cell_type": "code",
   "execution_count": 71,
   "id": "b2a48731",
   "metadata": {},
   "outputs": [
    {
     "name": "stdout",
     "output_type": "stream",
     "text": [
      "Binary Classification Results for Flights within the Northeast\n",
      "Accuracy Score: 0.6908023483365949\n",
      "              precision    recall  f1-score   support\n",
      "\n",
      " NOT DELAYED       0.76      0.80      0.78     15600\n",
      "     DELAYED       0.52      0.47      0.49      7395\n",
      "\n",
      "    accuracy                           0.69     22995\n",
      "   macro avg       0.64      0.63      0.64     22995\n",
      "weighted avg       0.68      0.69      0.69     22995\n",
      "\n"
     ]
    }
   ],
   "source": [
    "# Evaluate the model on the testing set\n",
    "y_pred_NE = binC_NE.predict(X_test_NE)\n",
    "print(\"Binary Classification Results for Flights within the Northeast\")\n",
    "print(\"Accuracy Score:\", accuracy_score(y_test_NE,y_pred_NE))\n",
    "target_names = ['ON TIME', 'DELAYED']\n",
    "print(classification_report(y_test_NE, y_pred_NE, target_names=target_names))"
   ]
  },
  {
   "cell_type": "markdown",
   "id": "b417dfd5",
   "metadata": {},
   "source": [
    "## Multiclass Classification"
   ]
  },
  {
   "cell_type": "code",
   "execution_count": 79,
   "id": "4e45819c",
   "metadata": {},
   "outputs": [],
   "source": [
    "X_NE = flights_NE.drop(['DELAYED','ORIGIN_REGION','DESTINATION_REGION','DEPARTURE_DELAY','ARRIVAL_DELAY','DELAY_CATEGORY'], axis=1)\n",
    "y_NE = flights_NE['DELAY_CATEGORY']\n",
    "\n",
    "X_train_NE, X_test_NE, y_train_NE, y_test_NE = train_test_split(X_NE, y_NE, test_size=0.3, random_state=123)\n"
   ]
  },
  {
   "cell_type": "markdown",
   "id": "9e7d66c5",
   "metadata": {},
   "source": [
    "### Balancing the data"
   ]
  },
  {
   "cell_type": "code",
   "execution_count": 80,
   "id": "6300db74",
   "metadata": {},
   "outputs": [],
   "source": [
    "# Balance the dataset using RandomOverSampler\n",
    "X_train_balanced_NE, y_train_balanced_NE = ros.fit_resample(X_train_NE, y_train_NE)"
   ]
  },
  {
   "cell_type": "code",
   "execution_count": 81,
   "id": "51292f2f",
   "metadata": {},
   "outputs": [
    {
     "name": "stdout",
     "output_type": "stream",
     "text": [
      "Before balancing: ON-TIME         36212\n",
      "DELAY<20         8115\n",
      "60=<DELAY        4061\n",
      "20=<DELAY<40     3363\n",
      "40=<DELAY<60     1903\n",
      "Name: DELAY_CATEGORY, dtype: int64\n",
      "After balancing: ON-TIME         36212\n",
      "60=<DELAY       36212\n",
      "20=<DELAY<40    36212\n",
      "40=<DELAY<60    36212\n",
      "DELAY<20        36212\n",
      "Name: DELAY_CATEGORY, dtype: int64\n"
     ]
    }
   ],
   "source": [
    "before_balancing = y_train_NE.value_counts()\n",
    "print(\"Before balancing:\",before_balancing)\n",
    "after_balancing = y_train_balanced_NE.value_counts()\n",
    "print(\"After balancing:\",after_balancing)\n"
   ]
  },
  {
   "cell_type": "markdown",
   "id": "7cc5c252",
   "metadata": {},
   "source": [
    "### Feature selection"
   ]
  },
  {
   "cell_type": "code",
   "execution_count": 82,
   "id": "70b3d050",
   "metadata": {},
   "outputs": [
    {
     "name": "stdout",
     "output_type": "stream",
     "text": [
      "Size before feature selection: (181060, 114) (22995, 114)\n",
      "Size after feature selection: (181060, 20) (22995, 20)\n"
     ]
    }
   ],
   "source": [
    "# Perform feature selection using ANOVA F-value between label/feature\n",
    "print(\"Size before feature selection:\",X_train_balanced_NE.shape, X_test_NE.shape)\n",
    "X_train_selected_NE = selector.fit_transform(X_train_balanced_NE, y_train_balanced_NE)\n",
    "X_test_NE = selector.transform(X_test_NE)\n",
    "print(\"Size after feature selection:\",X_train_selected_NE.shape, X_test_NE.shape)"
   ]
  },
  {
   "cell_type": "markdown",
   "id": "1cd6ea51",
   "metadata": {},
   "source": [
    "#### Features selected for multicategory classifcation"
   ]
  },
  {
   "cell_type": "code",
   "execution_count": 83,
   "id": "d3927d19",
   "metadata": {
    "scrolled": true
   },
   "outputs": [
    {
     "name": "stdout",
     "output_type": "stream",
     "text": [
      "Index(['ORIGIN_PRECIPITATION', 'ORIGIN_WEATHERCODE', 'ORIGIN_CLOUDCOVER',\n",
      "       'ORIGIN_CLOUDCOVER_LOW', 'ORIGIN_CLOUDCOVER_MID',\n",
      "       'ORIGIN_WINDSPEED_10M', 'ORIGIN_WINDSPEED_100M',\n",
      "       'DESTINATION_RELATIVEHUMIDITY_2M', 'DESTINATION_PRECIPITATION',\n",
      "       'DESTINATION_RAIN', 'DESTINATION_WEATHERCODE', 'DESTINATION_CLOUDCOVER',\n",
      "       'DESTINATION_CLOUDCOVER_LOW', 'DESTINATION_WINDSPEED_10M',\n",
      "       'DESTINATION_WINDSPEED_100M', 'SCHEDULED_DEP_TIME_CAT_Night',\n",
      "       'SCHEDULED_DEP_TIME_CAT_Morning', 'SCHEDULED_DEP_TIME_CAT_Evening',\n",
      "       'SCHEDULED_ARR_TIME_CAT_Morning', 'SCHEDULED_ARR_TIME_CAT_Evening'],\n",
      "      dtype='object')\n"
     ]
    }
   ],
   "source": [
    "selected_features_mulC_NE = X_NE.columns[selector.get_support()]\n",
    "print(selected_features_mulC_NE)"
   ]
  },
  {
   "cell_type": "markdown",
   "id": "e3cd7205",
   "metadata": {},
   "source": [
    "### Training multiclass RFC"
   ]
  },
  {
   "cell_type": "code",
   "execution_count": 84,
   "id": "93586c7d",
   "metadata": {},
   "outputs": [],
   "source": [
    "# Train a Random Forest classifier\n",
    "rfc_NE = rfc.fit(X_train_selected_NE, y_train_balanced_NE)\n",
    "y_pred_NE = rfc_NE.predict(X_test_NE)"
   ]
  },
  {
   "cell_type": "code",
   "execution_count": 86,
   "id": "93e31848",
   "metadata": {},
   "outputs": [
    {
     "name": "stdout",
     "output_type": "stream",
     "text": [
      "Multiclass Classification Results for Flights within the Northeast\n",
      "Accuracy Score: 0.6187432050445749\n",
      "              precision    recall  f1-score   support\n",
      "\n",
      "20=<DELAY<40       0.11      0.06      0.08      1413\n",
      "40=<DELAY<60       0.05      0.03      0.04       835\n",
      "   60=<DELAY       0.33      0.28      0.30      1622\n",
      "    DELAY<20       0.19      0.12      0.15      3525\n",
      "     ON-TIME       0.73      0.85      0.78     15600\n",
      "\n",
      "    accuracy                           0.62     22995\n",
      "   macro avg       0.28      0.27      0.27     22995\n",
      "weighted avg       0.55      0.62      0.58     22995\n",
      "\n"
     ]
    }
   ],
   "source": [
    "# Get the classification report for each class\n",
    "print(\"Multiclass Classification Results for Flights within the Northeast\")\n",
    "print(\"Accuracy Score:\", accuracy_score(y_test_NE,y_pred_NE))\n",
    "print(classification_report(y_test_NE, y_pred_NE))"
   ]
  },
  {
   "cell_type": "markdown",
   "id": "767ca99b",
   "metadata": {},
   "source": [
    "# Flights within the South:"
   ]
  },
  {
   "cell_type": "code",
   "execution_count": 95,
   "id": "f3efefc1",
   "metadata": {},
   "outputs": [],
   "source": [
    "flights_S = flights_w_weather[(flights_w_weather['ORIGIN_REGION'] == 'South') & (flights_w_weather['DESTINATION_REGION'] == 'South')]"
   ]
  },
  {
   "cell_type": "markdown",
   "id": "1f4e65b4",
   "metadata": {},
   "source": [
    "## Binary Classification:"
   ]
  },
  {
   "cell_type": "code",
   "execution_count": 96,
   "id": "cfd9030c",
   "metadata": {},
   "outputs": [],
   "source": [
    "# Encode categorical variables using one-hot encoding\n",
    "flights_S = pd.get_dummies(flights_S, columns=['MONTH', 'DAY_OF_WEEK','AIRLINE', 'ORIGIN_AIRPORT', 'DESTINATION_AIRPORT', 'SCHEDULED_DEP_TIME_CAT', 'SCHEDULED_ARR_TIME_CAT'])\n",
    "\n",
    "# Split the dataset into training and testing sets\n",
    "X_S = flights_S.drop(['DELAYED','ORIGIN_REGION','DESTINATION_REGION','DEPARTURE_DELAY','ARRIVAL_DELAY','DELAY_CATEGORY'], axis=1)\n",
    "y_S = flights_S['DELAYED']\n",
    "X_train_S, X_test_S, y_train_S, y_test_S = train_test_split(X_S, y_S, test_size=0.3, random_state=123)\n"
   ]
  },
  {
   "cell_type": "markdown",
   "id": "8b174fe7",
   "metadata": {},
   "source": [
    "### Balancing the data"
   ]
  },
  {
   "cell_type": "code",
   "execution_count": 97,
   "id": "0c1281a0",
   "metadata": {},
   "outputs": [],
   "source": [
    "# Balance the data using RandomOverSampler\n",
    "X_train_balanced_S, y_train_balanced_S = ros.fit_resample(X_train_S, y_train_S)\n"
   ]
  },
  {
   "cell_type": "markdown",
   "id": "6f09e507",
   "metadata": {},
   "source": [
    "### Feature Selection"
   ]
  },
  {
   "cell_type": "code",
   "execution_count": 98,
   "id": "9e884b09",
   "metadata": {},
   "outputs": [
    {
     "name": "stdout",
     "output_type": "stream",
     "text": [
      "Size before feature selection: (1019212, 280) (338483, 280)\n",
      "Size after feature selection: (1019212, 20) (338483, 20)\n"
     ]
    }
   ],
   "source": [
    "# Perform feature selection using ANOVA F-value between label/feature\n",
    "print(\"Size before feature selection:\",X_train_balanced_S.shape, X_test_S.shape)\n",
    "X_train_selected_S = selector.fit_transform(X_train_balanced_S, y_train_balanced_S)\n",
    "X_test_S = selector.transform(X_test_S)\n",
    "print(\"Size after feature selection:\",X_train_selected_S.shape, X_test_S.shape)\n"
   ]
  },
  {
   "cell_type": "markdown",
   "id": "fa8b4b88",
   "metadata": {},
   "source": [
    "#### Selected features for binary classification"
   ]
  },
  {
   "cell_type": "code",
   "execution_count": 99,
   "id": "f751d958",
   "metadata": {},
   "outputs": [
    {
     "name": "stdout",
     "output_type": "stream",
     "text": [
      "Index(['SCHEDULED_TIME', 'DISTANCE', 'ORIGIN_PRECIPITATION', 'ORIGIN_RAIN',\n",
      "       'ORIGIN_WEATHERCODE', 'ORIGIN_CLOUDCOVER', 'ORIGIN_CLOUDCOVER_LOW',\n",
      "       'ORIGIN_CLOUDCOVER_MID', 'ORIGIN_CLOUDCOVER_HIGH',\n",
      "       'DESTINATION_WEATHERCODE', 'DESTINATION_CLOUDCOVER_HIGH', 'MONTH_9',\n",
      "       'AIRLINE_EV', 'AIRLINE_WN', 'SCHEDULED_DEP_TIME_CAT_Night',\n",
      "       'SCHEDULED_DEP_TIME_CAT_Morning', 'SCHEDULED_DEP_TIME_CAT_Afternoon',\n",
      "       'SCHEDULED_DEP_TIME_CAT_Evening', 'SCHEDULED_ARR_TIME_CAT_Morning',\n",
      "       'SCHEDULED_ARR_TIME_CAT_Evening'],\n",
      "      dtype='object')\n"
     ]
    }
   ],
   "source": [
    "# Print the selected feature names\n",
    "selected_features_binC_S = X_S.columns[selector.get_support()]\n",
    "print(selected_features_binC_S)"
   ]
  },
  {
   "cell_type": "markdown",
   "id": "d19d104f",
   "metadata": {},
   "source": [
    "### Training binary RFC"
   ]
  },
  {
   "cell_type": "code",
   "execution_count": 100,
   "id": "020e77e1",
   "metadata": {},
   "outputs": [],
   "source": [
    "# Train the model on the training set\n",
    "binC_S = rfc.fit(X_train_selected_S, y_train_balanced_S)"
   ]
  },
  {
   "cell_type": "code",
   "execution_count": 101,
   "id": "5fb570c8",
   "metadata": {},
   "outputs": [
    {
     "name": "stdout",
     "output_type": "stream",
     "text": [
      "Binary Classification Results for Flights within the South\n",
      "Accuracy Score: 0.6511612104596095\n",
      "              precision    recall  f1-score   support\n",
      "\n",
      "     ON TIME       0.71      0.77      0.74    218608\n",
      "     DELAYED       0.51      0.43      0.47    119875\n",
      "\n",
      "    accuracy                           0.65    338483\n",
      "   macro avg       0.61      0.60      0.60    338483\n",
      "weighted avg       0.64      0.65      0.64    338483\n",
      "\n"
     ]
    }
   ],
   "source": [
    "# Evaluate the model on the testing set\n",
    "y_pred_S = binC_S.predict(X_test_S)\n",
    "print(\"Binary Classification Results for Flights within the South\")\n",
    "print(\"Accuracy Score:\", accuracy_score(y_test_S,y_pred_S))\n",
    "target_names = ['ON TIME', 'DELAYED']\n",
    "print(classification_report(y_test_S, y_pred_S, target_names=target_names))"
   ]
  },
  {
   "cell_type": "markdown",
   "id": "3a12404b",
   "metadata": {},
   "source": [
    "## Multiclass Classification"
   ]
  },
  {
   "cell_type": "code",
   "execution_count": 102,
   "id": "e684351b",
   "metadata": {},
   "outputs": [],
   "source": [
    "X_S = flights_S.drop(['DELAYED','ORIGIN_REGION','DESTINATION_REGION','DEPARTURE_DELAY','ARRIVAL_DELAY','DELAY_CATEGORY'], axis=1)\n",
    "y_S = flights_S['DELAY_CATEGORY']\n",
    "\n",
    "X_train_S, X_test_S, y_train_S, y_test_S = train_test_split(X_S, y_S, test_size=0.3, random_state=123)\n"
   ]
  },
  {
   "cell_type": "markdown",
   "id": "3947b321",
   "metadata": {},
   "source": [
    "### Balancing the data"
   ]
  },
  {
   "cell_type": "code",
   "execution_count": 103,
   "id": "832c0b0d",
   "metadata": {},
   "outputs": [],
   "source": [
    "# Balance the dataset using RandomOverSampler\n",
    "X_train_balanced_S, y_train_balanced_S = ros.fit_resample(X_train_S, y_train_S)"
   ]
  },
  {
   "cell_type": "code",
   "execution_count": 104,
   "id": "fc3d3433",
   "metadata": {},
   "outputs": [
    {
     "name": "stdout",
     "output_type": "stream",
     "text": [
      "Before balancing: ON-TIME         509606\n",
      "DELAY<20        163172\n",
      "20=<DELAY<40     50388\n",
      "60=<DELAY        43285\n",
      "40=<DELAY<60     23342\n",
      "Name: DELAY_CATEGORY, dtype: int64\n",
      "After balancing: ON-TIME         509606\n",
      "20=<DELAY<40    509606\n",
      "DELAY<20        509606\n",
      "40=<DELAY<60    509606\n",
      "60=<DELAY       509606\n",
      "Name: DELAY_CATEGORY, dtype: int64\n"
     ]
    }
   ],
   "source": [
    "before_balancing = y_train_S.value_counts()\n",
    "print(\"Before balancing:\",before_balancing)\n",
    "after_balancing = y_train_balanced_S.value_counts()\n",
    "print(\"After balancing:\",after_balancing)\n"
   ]
  },
  {
   "cell_type": "markdown",
   "id": "2b5d0e6e",
   "metadata": {},
   "source": [
    "### Feature selection"
   ]
  },
  {
   "cell_type": "code",
   "execution_count": 105,
   "id": "d9daa917",
   "metadata": {},
   "outputs": [
    {
     "name": "stdout",
     "output_type": "stream",
     "text": [
      "Size before feature selection: (2548030, 280) (338483, 280)\n",
      "Size after feature selection: (2548030, 20) (338483, 20)\n"
     ]
    }
   ],
   "source": [
    "# Perform feature selection using ANOVA F-value between label/feature\n",
    "print(\"Size before feature selection:\",X_train_balanced_S.shape, X_test_S.shape)\n",
    "X_train_selected_S = selector.fit_transform(X_train_balanced_S, y_train_balanced_S)\n",
    "X_test_S = selector.transform(X_test_S)\n",
    "print(\"Size after feature selection:\",X_train_selected_S.shape, X_test_S.shape)"
   ]
  },
  {
   "cell_type": "markdown",
   "id": "4fe9e83d",
   "metadata": {},
   "source": [
    "#### Features selected for multicategory classifcation"
   ]
  },
  {
   "cell_type": "code",
   "execution_count": 106,
   "id": "fdd6a6c4",
   "metadata": {
    "scrolled": true
   },
   "outputs": [
    {
     "name": "stdout",
     "output_type": "stream",
     "text": [
      "Index(['ORIGIN_PRECIPITATION', 'ORIGIN_RAIN', 'ORIGIN_WEATHERCODE',\n",
      "       'ORIGIN_CLOUDCOVER', 'ORIGIN_CLOUDCOVER_MID', 'ORIGIN_CLOUDCOVER_HIGH',\n",
      "       'DESTINATION_RELATIVEHUMIDITY_2M', 'DESTINATION_PRECIPITATION',\n",
      "       'DESTINATION_RAIN', 'DESTINATION_WEATHERCODE',\n",
      "       'DESTINATION_CLOUDCOVER_HIGH', 'AIRLINE_DL', 'AIRLINE_EV', 'AIRLINE_WN',\n",
      "       'SCHEDULED_DEP_TIME_CAT_Night', 'SCHEDULED_DEP_TIME_CAT_Morning',\n",
      "       'SCHEDULED_DEP_TIME_CAT_Afternoon', 'SCHEDULED_DEP_TIME_CAT_Evening',\n",
      "       'SCHEDULED_ARR_TIME_CAT_Morning', 'SCHEDULED_ARR_TIME_CAT_Evening'],\n",
      "      dtype='object')\n"
     ]
    }
   ],
   "source": [
    "selected_features_mulC_S = X_S.columns[selector.get_support()]\n",
    "print(selected_features_mulC_S)"
   ]
  },
  {
   "cell_type": "markdown",
   "id": "d66d7c67",
   "metadata": {},
   "source": [
    "### Training multiclass RFC"
   ]
  },
  {
   "cell_type": "code",
   "execution_count": 107,
   "id": "4e71835b",
   "metadata": {},
   "outputs": [],
   "source": [
    "# Train a Random Forest classifier\n",
    "rfc_S = rfc.fit(X_train_selected_S, y_train_balanced_S)\n",
    "y_pred_S = rfc_S.predict(X_test_S)"
   ]
  },
  {
   "cell_type": "code",
   "execution_count": 108,
   "id": "5bbe0eda",
   "metadata": {},
   "outputs": [
    {
     "name": "stdout",
     "output_type": "stream",
     "text": [
      "Multiclass Classification Results for Flights within the South\n",
      "Accuracy Score: 0.5539598739079954\n",
      "              precision    recall  f1-score   support\n",
      "\n",
      "20=<DELAY<40       0.10      0.07      0.08     21694\n",
      "40=<DELAY<60       0.05      0.04      0.04      9963\n",
      "   60=<DELAY       0.18      0.12      0.15     18423\n",
      "    DELAY<20       0.26      0.22      0.24     69795\n",
      "     ON-TIME       0.69      0.77      0.73    218608\n",
      "\n",
      "    accuracy                           0.55    338483\n",
      "   macro avg       0.26      0.24      0.25    338483\n",
      "weighted avg       0.52      0.55      0.53    338483\n",
      "\n"
     ]
    }
   ],
   "source": [
    "# Get the classification report for each class\n",
    "print(\"Multiclass Classification Results for Flights within the South\")\n",
    "print(\"Accuracy Score:\", accuracy_score(y_test_S,y_pred_S))\n",
    "print(classification_report(y_test_S, y_pred_S))"
   ]
  },
  {
   "cell_type": "code",
   "execution_count": null,
   "id": "c0ee101b",
   "metadata": {},
   "outputs": [],
   "source": []
  },
  {
   "cell_type": "markdown",
   "id": "3520c579",
   "metadata": {},
   "source": [
    "# Flights within the West:"
   ]
  },
  {
   "cell_type": "code",
   "execution_count": 109,
   "id": "10525ca2",
   "metadata": {},
   "outputs": [],
   "source": [
    "flights_W = flights_w_weather[(flights_w_weather['ORIGIN_REGION'] == 'West') & (flights_w_weather['DESTINATION_REGION'] == 'West')]"
   ]
  },
  {
   "cell_type": "markdown",
   "id": "8fa631cd",
   "metadata": {},
   "source": [
    "## Binary Classification:"
   ]
  },
  {
   "cell_type": "code",
   "execution_count": 110,
   "id": "179d78b6",
   "metadata": {},
   "outputs": [],
   "source": [
    "# Encode categorical variables using one-hot encoding\n",
    "flights_W = pd.get_dummies(flights_W, columns=['MONTH', 'DAY_OF_WEEK','AIRLINE', 'ORIGIN_AIRPORT', 'DESTINATION_AIRPORT', 'SCHEDULED_DEP_TIME_CAT', 'SCHEDULED_ARR_TIME_CAT'])\n",
    "\n",
    "# Split the dataset into training and testing sets\n",
    "X_W = flights_W.drop(['DELAYED','ORIGIN_REGION','DESTINATION_REGION','DEPARTURE_DELAY','ARRIVAL_DELAY','DELAY_CATEGORY'], axis=1)\n",
    "y_W = flights_W['DELAYED']\n",
    "X_train_W, X_test_W, y_train_W, y_test_W = train_test_split(X_W, y_W, test_size=0.3, random_state=123)\n"
   ]
  },
  {
   "cell_type": "markdown",
   "id": "4d0affc5",
   "metadata": {},
   "source": [
    "### Balancing the data"
   ]
  },
  {
   "cell_type": "code",
   "execution_count": 111,
   "id": "37a9222e",
   "metadata": {},
   "outputs": [],
   "source": [
    "# Balance the data using RandomOverSampler\n",
    "X_train_balanced_W, y_train_balanced_W = ros.fit_resample(X_train_W, y_train_W)\n"
   ]
  },
  {
   "cell_type": "markdown",
   "id": "207585f3",
   "metadata": {},
   "source": [
    "### Feature Selection"
   ]
  },
  {
   "cell_type": "code",
   "execution_count": 112,
   "id": "d0ee8e1d",
   "metadata": {},
   "outputs": [
    {
     "name": "stdout",
     "output_type": "stream",
     "text": [
      "Size before feature selection: (965216, 276) (321563, 276)\n",
      "Size after feature selection: (965216, 20) (321563, 20)\n"
     ]
    }
   ],
   "source": [
    "# Perform feature selection using ANOVA F-value between label/feature\n",
    "print(\"Size before feature selection:\",X_train_balanced_W.shape, X_test_W.shape)\n",
    "X_train_selected_W = selector.fit_transform(X_train_balanced_W, y_train_balanced_W)\n",
    "X_test_W = selector.transform(X_test_W)\n",
    "print(\"Size after feature selection:\",X_train_selected_W.shape, X_test_W.shape)\n"
   ]
  },
  {
   "cell_type": "markdown",
   "id": "649ff925",
   "metadata": {},
   "source": [
    "#### Selected features for binary classification"
   ]
  },
  {
   "cell_type": "code",
   "execution_count": 113,
   "id": "f9c8aa3e",
   "metadata": {},
   "outputs": [
    {
     "name": "stdout",
     "output_type": "stream",
     "text": [
      "Index(['ORIGIN_RELATIVEHUMIDITY_2M', 'ORIGIN_WINDSPEED_10M',\n",
      "       'DESTINATION_WINDDIRECTION_10M', 'DESTINATION_WINDDIRECTION_100M',\n",
      "       'MONTH_9', 'AIRLINE_AS', 'AIRLINE_HA', 'AIRLINE_OO', 'AIRLINE_UA',\n",
      "       'AIRLINE_WN', 'ORIGIN_AIRPORT_DEN', 'ORIGIN_AIRPORT_SLC',\n",
      "       'DESTINATION_AIRPORT_SLC', 'SCHEDULED_DEP_TIME_CAT_Night',\n",
      "       'SCHEDULED_DEP_TIME_CAT_Morning', 'SCHEDULED_DEP_TIME_CAT_Afternoon',\n",
      "       'SCHEDULED_DEP_TIME_CAT_Evening', 'SCHEDULED_ARR_TIME_CAT_Morning',\n",
      "       'SCHEDULED_ARR_TIME_CAT_Afternoon', 'SCHEDULED_ARR_TIME_CAT_Evening'],\n",
      "      dtype='object')\n"
     ]
    }
   ],
   "source": [
    "# Print the selected feature names\n",
    "selected_features_binC_W = X_W.columns[selector.get_support()]\n",
    "print(selected_features_binC_W)"
   ]
  },
  {
   "cell_type": "markdown",
   "id": "98c1ae1e",
   "metadata": {},
   "source": [
    "### Training binary RFC"
   ]
  },
  {
   "cell_type": "code",
   "execution_count": 114,
   "id": "5c8265d5",
   "metadata": {},
   "outputs": [],
   "source": [
    "# Train the model on the training set\n",
    "binC_W = rfc.fit(X_train_selected_W, y_train_balanced_W)"
   ]
  },
  {
   "cell_type": "code",
   "execution_count": 115,
   "id": "4d63a038",
   "metadata": {},
   "outputs": [
    {
     "name": "stdout",
     "output_type": "stream",
     "text": [
      "Binary Classification Results for Flights within the West\n",
      "Accuracy Score: 0.654036689544506\n",
      "              precision    recall  f1-score   support\n",
      "\n",
      "     ON TIME       0.72      0.76      0.74    207468\n",
      "     DELAYED       0.51      0.46      0.49    114095\n",
      "\n",
      "    accuracy                           0.65    321563\n",
      "   macro avg       0.62      0.61      0.61    321563\n",
      "weighted avg       0.65      0.65      0.65    321563\n",
      "\n"
     ]
    }
   ],
   "source": [
    "# Evaluate the model on the testing set\n",
    "y_pred_W = binC_W.predict(X_test_W)\n",
    "print(\"Binary Classification Results for Flights within the West\")\n",
    "print(\"Accuracy Score:\", accuracy_score(y_test_W,y_pred_W))\n",
    "print(classification_report(y_test_W, y_pred_W, target_names=target_names))"
   ]
  },
  {
   "cell_type": "markdown",
   "id": "46861f98",
   "metadata": {},
   "source": [
    "## Multiclass Classification"
   ]
  },
  {
   "cell_type": "code",
   "execution_count": 116,
   "id": "ee241ca1",
   "metadata": {},
   "outputs": [],
   "source": [
    "X_W = flights_W.drop(['DELAYED','ORIGIN_REGION','DESTINATION_REGION','DEPARTURE_DELAY','ARRIVAL_DELAY','DELAY_CATEGORY'], axis=1)\n",
    "y_W = flights_W['DELAY_CATEGORY']\n",
    "\n",
    "X_train_W, X_test_W, y_train_W, y_test_W = train_test_split(X_W, y_W, test_size=0.3, random_state=123)\n"
   ]
  },
  {
   "cell_type": "markdown",
   "id": "f1ee6860",
   "metadata": {},
   "source": [
    "### Balancing the data"
   ]
  },
  {
   "cell_type": "code",
   "execution_count": 117,
   "id": "41f12ab9",
   "metadata": {},
   "outputs": [],
   "source": [
    "# Balance the dataset using RandomOverSampler\n",
    "X_train_balanced_W, y_train_balanced_W = ros.fit_resample(X_train_W, y_train_W)"
   ]
  },
  {
   "cell_type": "code",
   "execution_count": 118,
   "id": "e3606243",
   "metadata": {},
   "outputs": [
    {
     "name": "stdout",
     "output_type": "stream",
     "text": [
      "Before balancing: ON-TIME         482608\n",
      "DELAY<20        159533\n",
      "20=<DELAY<40     47947\n",
      "60=<DELAY        37405\n",
      "40=<DELAY<60     22820\n",
      "Name: DELAY_CATEGORY, dtype: int64\n",
      "After balancing: ON-TIME         482608\n",
      "60=<DELAY       482608\n",
      "DELAY<20        482608\n",
      "40=<DELAY<60    482608\n",
      "20=<DELAY<40    482608\n",
      "Name: DELAY_CATEGORY, dtype: int64\n"
     ]
    }
   ],
   "source": [
    "before_balancing = y_train_W.value_counts()\n",
    "print(\"Before balancing:\",before_balancing)\n",
    "after_balancing = y_train_balanced_W.value_counts()\n",
    "print(\"After balancing:\",after_balancing)\n"
   ]
  },
  {
   "cell_type": "markdown",
   "id": "8579d38c",
   "metadata": {},
   "source": [
    "### Feature selection"
   ]
  },
  {
   "cell_type": "code",
   "execution_count": 119,
   "id": "5f7e3843",
   "metadata": {},
   "outputs": [
    {
     "name": "stdout",
     "output_type": "stream",
     "text": [
      "Size before feature selection: (2413040, 276) (321563, 276)\n",
      "Size after feature selection: (2413040, 20) (321563, 20)\n"
     ]
    }
   ],
   "source": [
    "# Perform feature selection using ANOVA F-value between label/feature\n",
    "print(\"Size before feature selection:\",X_train_balanced_W.shape, X_test_W.shape)\n",
    "X_train_selected_W = selector.fit_transform(X_train_balanced_W, y_train_balanced_W)\n",
    "X_test_W = selector.transform(X_test_W)\n",
    "print(\"Size after feature selection:\",X_train_selected_W.shape, X_test_W.shape)"
   ]
  },
  {
   "cell_type": "markdown",
   "id": "77f0ebb9",
   "metadata": {},
   "source": [
    "#### Features selected for multicategory classifcation"
   ]
  },
  {
   "cell_type": "code",
   "execution_count": 120,
   "id": "15809593",
   "metadata": {
    "scrolled": true
   },
   "outputs": [
    {
     "name": "stdout",
     "output_type": "stream",
     "text": [
      "Index(['ORIGIN_RELATIVEHUMIDITY_2M', 'ORIGIN_WINDDIRECTION_10M',\n",
      "       'ORIGIN_WINDDIRECTION_100M', 'DESTINATION_WINDDIRECTION_100M',\n",
      "       'MONTH_9', 'AIRLINE_AS', 'AIRLINE_HA', 'AIRLINE_OO', 'AIRLINE_UA',\n",
      "       'AIRLINE_WN', 'ORIGIN_AIRPORT_HNL', 'DESTINATION_AIRPORT_HNL',\n",
      "       'DESTINATION_AIRPORT_SFO', 'SCHEDULED_DEP_TIME_CAT_Night',\n",
      "       'SCHEDULED_DEP_TIME_CAT_Morning', 'SCHEDULED_DEP_TIME_CAT_Afternoon',\n",
      "       'SCHEDULED_DEP_TIME_CAT_Evening', 'SCHEDULED_ARR_TIME_CAT_Morning',\n",
      "       'SCHEDULED_ARR_TIME_CAT_Afternoon', 'SCHEDULED_ARR_TIME_CAT_Evening'],\n",
      "      dtype='object')\n"
     ]
    }
   ],
   "source": [
    "selected_features_mulC_W = X_W.columns[selector.get_support()]\n",
    "print(selected_features_mulC_W)"
   ]
  },
  {
   "cell_type": "markdown",
   "id": "3d617549",
   "metadata": {},
   "source": [
    "### Training multiclass RFC"
   ]
  },
  {
   "cell_type": "code",
   "execution_count": 121,
   "id": "279d9d14",
   "metadata": {},
   "outputs": [],
   "source": [
    "# Train a Random Forest classifier\n",
    "rfc_W = rfc.fit(X_train_selected_W, y_train_balanced_W)\n",
    "y_pred_W = rfc_W.predict(X_test_W)"
   ]
  },
  {
   "cell_type": "code",
   "execution_count": 122,
   "id": "99e096b9",
   "metadata": {},
   "outputs": [
    {
     "name": "stdout",
     "output_type": "stream",
     "text": [
      "Multiclass Classification Results for Flights within the West\n",
      "Accuracy Score: 0.5779178574649446\n",
      "              precision    recall  f1-score   support\n",
      "\n",
      "20=<DELAY<40       0.12      0.08      0.10     20539\n",
      "40=<DELAY<60       0.06      0.04      0.05      9491\n",
      "   60=<DELAY       0.14      0.09      0.11     15938\n",
      "    DELAY<20       0.31      0.28      0.29     68127\n",
      "     ON-TIME       0.71      0.79      0.75    207468\n",
      "\n",
      "    accuracy                           0.58    321563\n",
      "   macro avg       0.27      0.25      0.26    321563\n",
      "weighted avg       0.54      0.58      0.56    321563\n",
      "\n"
     ]
    }
   ],
   "source": [
    "# Get the classification report for each class\n",
    "print(\"Multiclass Classification Results for Flights within the West\")\n",
    "print(\"Accuracy Score:\", accuracy_score(y_test_W,y_pred_W))\n",
    "print(classification_report(y_test_W, y_pred_W))"
   ]
  },
  {
   "cell_type": "code",
   "execution_count": null,
   "id": "d5a8e2f8",
   "metadata": {},
   "outputs": [],
   "source": []
  },
  {
   "cell_type": "markdown",
   "id": "c2180efe",
   "metadata": {},
   "source": [
    "# Flights between the Midwest and the Northeast:"
   ]
  },
  {
   "cell_type": "code",
   "execution_count": 123,
   "id": "300e5ea6",
   "metadata": {},
   "outputs": [],
   "source": [
    "flights_MW_NE = flights_w_weather[(flights_w_weather['ORIGIN_REGION'] == 'Northeast') & (flights_w_weather['DESTINATION_REGION'] == 'Midwest') | (flights_w_weather['ORIGIN_REGION'] == 'Midwest') & (flights_w_weather['DESTINATION_REGION'] == 'Northeast')]"
   ]
  },
  {
   "cell_type": "markdown",
   "id": "49491639",
   "metadata": {},
   "source": [
    "## Binary Classification:"
   ]
  },
  {
   "cell_type": "code",
   "execution_count": 124,
   "id": "0dcd9396",
   "metadata": {},
   "outputs": [],
   "source": [
    "# Encode categorical variables using one-hot encoding\n",
    "flights_MW_NE = pd.get_dummies(flights_MW_NE, columns=['MONTH', 'DAY_OF_WEEK','AIRLINE', 'ORIGIN_AIRPORT', 'DESTINATION_AIRPORT', 'SCHEDULED_DEP_TIME_CAT', 'SCHEDULED_ARR_TIME_CAT'])\n",
    "\n",
    "# Split the dataset into training and testing sets\n",
    "X_MW_NE = flights_MW_NE.drop(['DELAYED','ORIGIN_REGION','DESTINATION_REGION','DEPARTURE_DELAY','ARRIVAL_DELAY','DELAY_CATEGORY'], axis=1)\n",
    "y_MW_NE = flights_MW_NE['DELAYED']\n",
    "X_train_MW_NE, X_test_MW_NE, y_train_MW_NE, y_test_MW_NE = train_test_split(X_MW_NE, y_MW_NE, test_size=0.3, random_state=123)\n"
   ]
  },
  {
   "cell_type": "markdown",
   "id": "dbba2f7f",
   "metadata": {},
   "source": [
    "### Balancing the data"
   ]
  },
  {
   "cell_type": "code",
   "execution_count": 125,
   "id": "8a1b01d1",
   "metadata": {},
   "outputs": [],
   "source": [
    "# Balance the data using RandomOverSampler\n",
    "X_train_balanced_MW_NE, y_train_balanced_MW_NE = ros.fit_resample(X_train_MW_NE, y_train_MW_NE)\n"
   ]
  },
  {
   "cell_type": "markdown",
   "id": "504cb594",
   "metadata": {},
   "source": [
    "### Feature Selection"
   ]
  },
  {
   "cell_type": "code",
   "execution_count": 126,
   "id": "96ad1bc3",
   "metadata": {},
   "outputs": [
    {
     "name": "stdout",
     "output_type": "stream",
     "text": [
      "Size before feature selection: (198088, 169) (68291, 169)\n",
      "Size after feature selection: (198088, 20) (68291, 20)\n"
     ]
    }
   ],
   "source": [
    "# Perform feature selection using ANOVA F-value between label/feature\n",
    "print(\"Size before feature selection:\",X_train_balanced_MW_NE.shape, X_test_MW_NE.shape)\n",
    "X_train_selected_MW_NE = selector.fit_transform(X_train_balanced_MW_NE, y_train_balanced_MW_NE)\n",
    "X_test_MW_NE = selector.transform(X_test_MW_NE)\n",
    "print(\"Size after feature selection:\",X_train_selected_MW_NE.shape, X_test_MW_NE.shape)\n"
   ]
  },
  {
   "cell_type": "markdown",
   "id": "95a209aa",
   "metadata": {},
   "source": [
    "#### Selected features for binary classification"
   ]
  },
  {
   "cell_type": "code",
   "execution_count": 127,
   "id": "b05419fb",
   "metadata": {},
   "outputs": [
    {
     "name": "stdout",
     "output_type": "stream",
     "text": [
      "Index(['ORIGIN_PRECIPITATION', 'ORIGIN_WEATHERCODE', 'ORIGIN_CLOUDCOVER',\n",
      "       'ORIGIN_CLOUDCOVER_LOW', 'ORIGIN_CLOUDCOVER_MID',\n",
      "       'ORIGIN_WINDSPEED_10M', 'DESTINATION_WEATHERCODE', 'MONTH_2', 'MONTH_9',\n",
      "       'AIRLINE_EV', 'AIRLINE_UA', 'AIRLINE_WN', 'ORIGIN_AIRPORT_MDW',\n",
      "       'DESTINATION_AIRPORT_DTW', 'SCHEDULED_DEP_TIME_CAT_Night',\n",
      "       'SCHEDULED_DEP_TIME_CAT_Morning', 'SCHEDULED_DEP_TIME_CAT_Afternoon',\n",
      "       'SCHEDULED_DEP_TIME_CAT_Evening', 'SCHEDULED_ARR_TIME_CAT_Morning',\n",
      "       'SCHEDULED_ARR_TIME_CAT_Evening'],\n",
      "      dtype='object')\n"
     ]
    }
   ],
   "source": [
    "# Print the selected feature names\n",
    "selected_features_binC_MW_NE = X_MW_NE.columns[selector.get_support()]\n",
    "print(selected_features_binC_MW_NE)"
   ]
  },
  {
   "cell_type": "markdown",
   "id": "a662272c",
   "metadata": {},
   "source": [
    "### Training binary RFC"
   ]
  },
  {
   "cell_type": "code",
   "execution_count": 128,
   "id": "a9bd4469",
   "metadata": {},
   "outputs": [],
   "source": [
    "# Train the model on the training set\n",
    "binC_MW_NE = rfc.fit(X_train_selected_MW_NE, y_train_balanced_MW_NE)"
   ]
  },
  {
   "cell_type": "code",
   "execution_count": 129,
   "id": "bfe87d56",
   "metadata": {},
   "outputs": [
    {
     "name": "stdout",
     "output_type": "stream",
     "text": [
      "Binary Classification Results for Flights between Midwest and Northeast\n",
      "Accuracy Score: 0.6334509671845485\n",
      "              precision    recall  f1-score   support\n",
      "\n",
      "     ON TIME       0.70      0.71      0.71     42412\n",
      "     DELAYED       0.52      0.50      0.51     25879\n",
      "\n",
      "    accuracy                           0.63     68291\n",
      "   macro avg       0.61      0.61      0.61     68291\n",
      "weighted avg       0.63      0.63      0.63     68291\n",
      "\n"
     ]
    }
   ],
   "source": [
    "# Evaluate the model on the testing set\n",
    "y_pred_MW_NE = binC_MW_NE.predict(X_test_MW_NE)\n",
    "print(\"Binary Classification Results for Flights between Midwest and Northeast\")\n",
    "print(\"Accuracy Score:\", accuracy_score(y_test_MW_NE,y_pred_MW_NE))\n",
    "print(classification_report(y_test_MW_NE, y_pred_MW_NE, target_names=target_names))"
   ]
  },
  {
   "cell_type": "markdown",
   "id": "5c151aee",
   "metadata": {},
   "source": [
    "## Multiclass Classification"
   ]
  },
  {
   "cell_type": "code",
   "execution_count": 130,
   "id": "e6cfe89d",
   "metadata": {},
   "outputs": [],
   "source": [
    "X_MW_NE = flights_MW_NE.drop(['DELAYED','ORIGIN_REGION','DESTINATION_REGION','DEPARTURE_DELAY','ARRIVAL_DELAY','DELAY_CATEGORY'], axis=1)\n",
    "y_MW_NE = flights_MW_NE['DELAY_CATEGORY']\n",
    "\n",
    "X_train_MW_NE, X_test_MW_NE, y_train_MW_NE, y_test_MW_NE = train_test_split(X_MW_NE, y_MW_NE, test_size=0.3, random_state=123)\n"
   ]
  },
  {
   "cell_type": "markdown",
   "id": "846d8189",
   "metadata": {},
   "source": [
    "### Balancing the data"
   ]
  },
  {
   "cell_type": "code",
   "execution_count": 131,
   "id": "6a4e68b1",
   "metadata": {},
   "outputs": [],
   "source": [
    "# Balance the dataset using RandomOverSampler\n",
    "X_train_balanced_MW_NE, y_train_balanced_MW_NE = ros.fit_resample(X_train_MW_NE, y_train_MW_NE)"
   ]
  },
  {
   "cell_type": "code",
   "execution_count": 132,
   "id": "72048351",
   "metadata": {},
   "outputs": [
    {
     "name": "stdout",
     "output_type": "stream",
     "text": [
      "Before balancing: ON-TIME         99044\n",
      "DELAY<20        31071\n",
      "60=<DELAY       12210\n",
      "20=<DELAY<40    11146\n",
      "40=<DELAY<60     5873\n",
      "Name: DELAY_CATEGORY, dtype: int64\n",
      "After balancing: 40=<DELAY<60    99044\n",
      "ON-TIME         99044\n",
      "60=<DELAY       99044\n",
      "DELAY<20        99044\n",
      "20=<DELAY<40    99044\n",
      "Name: DELAY_CATEGORY, dtype: int64\n"
     ]
    }
   ],
   "source": [
    "before_balancing = y_train_MW_NE.value_counts()\n",
    "print(\"Before balancing:\",before_balancing)\n",
    "after_balancing = y_train_balanced_MW_NE.value_counts()\n",
    "print(\"After balancing:\",after_balancing)\n"
   ]
  },
  {
   "cell_type": "markdown",
   "id": "c5b24744",
   "metadata": {},
   "source": [
    "### Feature selection"
   ]
  },
  {
   "cell_type": "code",
   "execution_count": 133,
   "id": "254e5291",
   "metadata": {},
   "outputs": [
    {
     "name": "stdout",
     "output_type": "stream",
     "text": [
      "Size before feature selection: (495220, 169) (68291, 169)\n",
      "Size after feature selection: (495220, 20) (68291, 20)\n"
     ]
    }
   ],
   "source": [
    "# Perform feature selection using ANOVA F-value between label/feature\n",
    "print(\"Size before feature selection:\",X_train_balanced_MW_NE.shape, X_test_MW_NE.shape)\n",
    "X_train_selected_MW_NE = selector.fit_transform(X_train_balanced_MW_NE, y_train_balanced_MW_NE)\n",
    "X_test_MW_NE = selector.transform(X_test_MW_NE)\n",
    "print(\"Size after feature selection:\",X_train_selected_MW_NE.shape, X_test_MW_NE.shape)"
   ]
  },
  {
   "cell_type": "markdown",
   "id": "a66edf06",
   "metadata": {},
   "source": [
    "#### Features selected for multicategory classifcation"
   ]
  },
  {
   "cell_type": "code",
   "execution_count": 134,
   "id": "030e9e46",
   "metadata": {
    "scrolled": true
   },
   "outputs": [
    {
     "name": "stdout",
     "output_type": "stream",
     "text": [
      "Index(['ORIGIN_PRECIPITATION', 'ORIGIN_WEATHERCODE', 'ORIGIN_CLOUDCOVER',\n",
      "       'ORIGIN_CLOUDCOVER_LOW', 'ORIGIN_CLOUDCOVER_MID',\n",
      "       'ORIGIN_WINDSPEED_10M', 'DESTINATION_RELATIVEHUMIDITY_2M',\n",
      "       'DESTINATION_PRECIPITATION', 'DESTINATION_WEATHERCODE',\n",
      "       'DESTINATION_CLOUDCOVER', 'DESTINATION_WINDSPEED_100M', 'AIRLINE_EV',\n",
      "       'AIRLINE_UA', 'ORIGIN_AIRPORT_MDW', 'SCHEDULED_DEP_TIME_CAT_Night',\n",
      "       'SCHEDULED_DEP_TIME_CAT_Morning', 'SCHEDULED_DEP_TIME_CAT_Afternoon',\n",
      "       'SCHEDULED_DEP_TIME_CAT_Evening', 'SCHEDULED_ARR_TIME_CAT_Morning',\n",
      "       'SCHEDULED_ARR_TIME_CAT_Evening'],\n",
      "      dtype='object')\n"
     ]
    }
   ],
   "source": [
    "selected_features_mulC_MW_NE = X_MW_NE.columns[selector.get_support()]\n",
    "print(selected_features_mulC_MW_NE)"
   ]
  },
  {
   "cell_type": "markdown",
   "id": "e5e927d7",
   "metadata": {},
   "source": [
    "### Training multiclass RFC"
   ]
  },
  {
   "cell_type": "code",
   "execution_count": 135,
   "id": "0c8e3fe1",
   "metadata": {},
   "outputs": [],
   "source": [
    "# Train a Random Forest classifier\n",
    "rfc_MW_NE = rfc.fit(X_train_selected_MW_NE, y_train_balanced_MW_NE)\n",
    "y_pred_MW_NE = rfc_MW_NE.predict(X_test_MW_NE)"
   ]
  },
  {
   "cell_type": "code",
   "execution_count": 136,
   "id": "ebbef174",
   "metadata": {},
   "outputs": [
    {
     "name": "stdout",
     "output_type": "stream",
     "text": [
      "Multiclass Classification Results for Flights between Midwest and Northeast\n",
      "Accuracy Score: 0.5799007189820035\n",
      "              precision    recall  f1-score   support\n",
      "\n",
      "20=<DELAY<40       0.13      0.06      0.08      4612\n",
      "40=<DELAY<60       0.09      0.03      0.05      2443\n",
      "   60=<DELAY       0.30      0.18      0.22      5290\n",
      "    DELAY<20       0.28      0.19      0.23     13534\n",
      "     ON-TIME       0.68      0.84      0.75     42412\n",
      "\n",
      "    accuracy                           0.58     68291\n",
      "   macro avg       0.29      0.26      0.27     68291\n",
      "weighted avg       0.51      0.58      0.54     68291\n",
      "\n"
     ]
    }
   ],
   "source": [
    "# Get the classification report for each class\n",
    "print(\"Multiclass Classification Results for Flights between Midwest and Northeast\")\n",
    "print(\"Accuracy Score:\", accuracy_score(y_test_MW_NE,y_pred_MW_NE))\n",
    "print(classification_report(y_test_MW_NE, y_pred_MW_NE))"
   ]
  },
  {
   "cell_type": "code",
   "execution_count": null,
   "id": "14b7c3d8",
   "metadata": {},
   "outputs": [],
   "source": []
  },
  {
   "cell_type": "markdown",
   "id": "4730474c",
   "metadata": {},
   "source": [
    "# Flights between the Midwest and the South:"
   ]
  },
  {
   "cell_type": "code",
   "execution_count": 137,
   "id": "937d3ecb",
   "metadata": {},
   "outputs": [],
   "source": [
    "flights_MW_S = flights_w_weather[(flights_w_weather['ORIGIN_REGION'] == 'South') & (flights_w_weather['DESTINATION_REGION'] == 'Midwest') | (flights_w_weather['ORIGIN_REGION'] == 'Midwest') & (flights_w_weather['DESTINATION_REGION'] == 'South')]"
   ]
  },
  {
   "cell_type": "markdown",
   "id": "9851ca6f",
   "metadata": {},
   "source": [
    "## Binary Classification:"
   ]
  },
  {
   "cell_type": "code",
   "execution_count": 138,
   "id": "31d354c0",
   "metadata": {},
   "outputs": [],
   "source": [
    "# Encode categorical variables using one-hot encoding\n",
    "flights_MW_S = pd.get_dummies(flights_MW_S, columns=['MONTH', 'DAY_OF_WEEK','AIRLINE', 'ORIGIN_AIRPORT', 'DESTINATION_AIRPORT', 'SCHEDULED_DEP_TIME_CAT', 'SCHEDULED_ARR_TIME_CAT'])\n",
    "\n",
    "# Split the dataset into training and testing sets\n",
    "X_MW_S = flights_MW_S.drop(['DELAYED','ORIGIN_REGION','DESTINATION_REGION','DEPARTURE_DELAY','ARRIVAL_DELAY','DELAY_CATEGORY'], axis=1)\n",
    "y_MW_S = flights_MW_S['DELAYED']\n",
    "X_train_MW_S, X_test_MW_S, y_train_MW_S, y_test_MW_S = train_test_split(X_MW_S, y_MW_S, test_size=0.3, random_state=123)\n"
   ]
  },
  {
   "cell_type": "markdown",
   "id": "5df0a1bf",
   "metadata": {},
   "source": [
    "### Balancing the data"
   ]
  },
  {
   "cell_type": "code",
   "execution_count": 139,
   "id": "6cf6260c",
   "metadata": {},
   "outputs": [],
   "source": [
    "# Balance the data using RandomOverSampler\n",
    "X_train_balanced_MW_S, y_train_balanced_MW_S = ros.fit_resample(X_train_MW_S, y_train_MW_S)\n"
   ]
  },
  {
   "cell_type": "markdown",
   "id": "8393be91",
   "metadata": {},
   "source": [
    "### Feature Selection"
   ]
  },
  {
   "cell_type": "code",
   "execution_count": 140,
   "id": "45a68b64",
   "metadata": {},
   "outputs": [
    {
     "name": "stdout",
     "output_type": "stream",
     "text": [
      "Size before feature selection: (558966, 269) (191021, 269)\n",
      "Size after feature selection: (558966, 20) (191021, 20)\n"
     ]
    }
   ],
   "source": [
    "# Perform feature selection using ANOVA F-value between label/feature\n",
    "print(\"Size before feature selection:\",X_train_balanced_MW_S.shape, X_test_MW_S.shape)\n",
    "X_train_selected_MW_S = selector.fit_transform(X_train_balanced_MW_S, y_train_balanced_MW_S)\n",
    "X_test_MW_S = selector.transform(X_test_MW_S)\n",
    "print(\"Size after feature selection:\",X_train_selected_MW_S.shape, X_test_MW_S.shape)\n"
   ]
  },
  {
   "cell_type": "markdown",
   "id": "fd705aba",
   "metadata": {},
   "source": [
    "#### Selected features for binary classification"
   ]
  },
  {
   "cell_type": "code",
   "execution_count": 141,
   "id": "3472c4db",
   "metadata": {},
   "outputs": [
    {
     "name": "stdout",
     "output_type": "stream",
     "text": [
      "Index(['ORIGIN_PRECIPITATION', 'ORIGIN_RAIN', 'ORIGIN_WEATHERCODE',\n",
      "       'ORIGIN_CLOUDCOVER', 'ORIGIN_CLOUDCOVER_LOW', 'ORIGIN_CLOUDCOVER_MID',\n",
      "       'ORIGIN_WINDSPEED_10M', 'MONTH_6', 'MONTH_9', 'AIRLINE_DL',\n",
      "       'AIRLINE_UA', 'AIRLINE_WN', 'ORIGIN_AIRPORT_MDW', 'ORIGIN_AIRPORT_ORD',\n",
      "       'SCHEDULED_DEP_TIME_CAT_Night', 'SCHEDULED_DEP_TIME_CAT_Morning',\n",
      "       'SCHEDULED_DEP_TIME_CAT_Afternoon', 'SCHEDULED_DEP_TIME_CAT_Evening',\n",
      "       'SCHEDULED_ARR_TIME_CAT_Morning', 'SCHEDULED_ARR_TIME_CAT_Evening'],\n",
      "      dtype='object')\n"
     ]
    }
   ],
   "source": [
    "# Print the selected feature names\n",
    "selected_features_binC_MW_S = X_MW_S.columns[selector.get_support()]\n",
    "print(selected_features_binC_MW_S)"
   ]
  },
  {
   "cell_type": "markdown",
   "id": "39963ee7",
   "metadata": {},
   "source": [
    "### Training binary RFC"
   ]
  },
  {
   "cell_type": "code",
   "execution_count": 142,
   "id": "2574ddb2",
   "metadata": {},
   "outputs": [],
   "source": [
    "# Train the model on the training set\n",
    "binC_MW_S = rfc.fit(X_train_selected_MW_S, y_train_balanced_MW_S)"
   ]
  },
  {
   "cell_type": "code",
   "execution_count": 143,
   "id": "bd33ced8",
   "metadata": {},
   "outputs": [
    {
     "name": "stdout",
     "output_type": "stream",
     "text": [
      "Binary Classification Results for Flights between the Midwest and the South\n",
      "Accuracy Score: 0.6173876170682805\n",
      "              precision    recall  f1-score   support\n",
      "\n",
      "     ON TIME       0.71      0.67      0.69    120235\n",
      "     DELAYED       0.48      0.52      0.50     70786\n",
      "\n",
      "    accuracy                           0.62    191021\n",
      "   macro avg       0.59      0.60      0.60    191021\n",
      "weighted avg       0.62      0.62      0.62    191021\n",
      "\n"
     ]
    }
   ],
   "source": [
    "# Evaluate the model on the testing set\n",
    "y_pred_MW_S = binC_MW_S.predict(X_test_MW_S)\n",
    "print(\"Binary Classification Results for Flights between the Midwest and the South\")\n",
    "print(\"Accuracy Score:\", accuracy_score(y_test_MW_S, y_pred_MW_S))\n",
    "print(classification_report(y_test_MW_S, y_pred_MW_S, target_names=target_names))"
   ]
  },
  {
   "cell_type": "markdown",
   "id": "6a077bb8",
   "metadata": {},
   "source": [
    "## Multiclass Classification"
   ]
  },
  {
   "cell_type": "code",
   "execution_count": 144,
   "id": "8978a3aa",
   "metadata": {},
   "outputs": [],
   "source": [
    "X_MW_S = flights_MW_S.drop(['DELAYED','ORIGIN_REGION','DESTINATION_REGION','DEPARTURE_DELAY','ARRIVAL_DELAY','DELAY_CATEGORY'], axis=1)\n",
    "y_MW_S = flights_MW_S['DELAY_CATEGORY']\n",
    "\n",
    "X_train_MW_S, X_test_MW_S, y_train_MW_S, y_test_MW_S = train_test_split(X_MW_S, y_MW_S, test_size=0.3, random_state=123)\n"
   ]
  },
  {
   "cell_type": "markdown",
   "id": "2ec47055",
   "metadata": {},
   "source": [
    "### Balancing the data"
   ]
  },
  {
   "cell_type": "code",
   "execution_count": 145,
   "id": "3e0cedac",
   "metadata": {},
   "outputs": [],
   "source": [
    "# Balance the dataset using RandomOverSampler\n",
    "X_train_balanced_MW_S, y_train_balanced_MW_S = ros.fit_resample(X_train_MW_S, y_train_MW_S)"
   ]
  },
  {
   "cell_type": "code",
   "execution_count": 146,
   "id": "8e999fb8",
   "metadata": {
    "scrolled": true
   },
   "outputs": [
    {
     "name": "stdout",
     "output_type": "stream",
     "text": [
      "Before balancing: ON-TIME         279483\n",
      "DELAY<20         94623\n",
      "20=<DELAY<40     29730\n",
      "60=<DELAY        27598\n",
      "40=<DELAY<60     14279\n",
      "Name: DELAY_CATEGORY, dtype: int64\n",
      "After balancing: ON-TIME         279483\n",
      "DELAY<20        279483\n",
      "40=<DELAY<60    279483\n",
      "60=<DELAY       279483\n",
      "20=<DELAY<40    279483\n",
      "Name: DELAY_CATEGORY, dtype: int64\n"
     ]
    }
   ],
   "source": [
    "before_balancing = y_train_MW_S.value_counts()\n",
    "print(\"Before balancing:\",before_balancing)\n",
    "after_balancing = y_train_balanced_MW_S.value_counts()\n",
    "print(\"After balancing:\",after_balancing)\n"
   ]
  },
  {
   "cell_type": "markdown",
   "id": "ea9f1bc4",
   "metadata": {},
   "source": [
    "### Feature selection"
   ]
  },
  {
   "cell_type": "code",
   "execution_count": 147,
   "id": "2b5d5687",
   "metadata": {
    "scrolled": true
   },
   "outputs": [
    {
     "name": "stdout",
     "output_type": "stream",
     "text": [
      "Size before feature selection: (1397415, 269) (191021, 269)\n",
      "Size after feature selection: (1397415, 20) (191021, 20)\n"
     ]
    }
   ],
   "source": [
    "# Perform feature selection using ANOVA F-value between label/feature\n",
    "print(\"Size before feature selection:\",X_train_balanced_MW_S.shape, X_test_MW_S.shape)\n",
    "X_train_selected_MW_S = selector.fit_transform(X_train_balanced_MW_S, y_train_balanced_MW_S)\n",
    "X_test_MW_S = selector.transform(X_test_MW_S)\n",
    "print(\"Size after feature selection:\",X_train_selected_MW_S.shape, X_test_MW_S.shape)"
   ]
  },
  {
   "cell_type": "markdown",
   "id": "a8b0b31a",
   "metadata": {},
   "source": [
    "#### Features selected for multicategory classifcation"
   ]
  },
  {
   "cell_type": "code",
   "execution_count": 148,
   "id": "4b895d8a",
   "metadata": {
    "scrolled": true
   },
   "outputs": [
    {
     "name": "stdout",
     "output_type": "stream",
     "text": [
      "Index(['ORIGIN_PRECIPITATION', 'ORIGIN_RAIN', 'ORIGIN_WEATHERCODE',\n",
      "       'ORIGIN_CLOUDCOVER', 'ORIGIN_CLOUDCOVER_LOW', 'ORIGIN_CLOUDCOVER_MID',\n",
      "       'ORIGIN_CLOUDCOVER_HIGH', 'DESTINATION_WEATHERCODE', 'MONTH_6',\n",
      "       'MONTH_9', 'AIRLINE_DL', 'AIRLINE_NK', 'AIRLINE_WN',\n",
      "       'ORIGIN_AIRPORT_ORD', 'SCHEDULED_DEP_TIME_CAT_Night',\n",
      "       'SCHEDULED_DEP_TIME_CAT_Morning', 'SCHEDULED_DEP_TIME_CAT_Afternoon',\n",
      "       'SCHEDULED_DEP_TIME_CAT_Evening', 'SCHEDULED_ARR_TIME_CAT_Morning',\n",
      "       'SCHEDULED_ARR_TIME_CAT_Evening'],\n",
      "      dtype='object')\n"
     ]
    }
   ],
   "source": [
    "selected_features_mulC_MW_S = X_MW_S.columns[selector.get_support()]\n",
    "print(selected_features_mulC_MW_S)"
   ]
  },
  {
   "cell_type": "markdown",
   "id": "125b243c",
   "metadata": {},
   "source": [
    "### Training multiclass RFC"
   ]
  },
  {
   "cell_type": "code",
   "execution_count": 149,
   "id": "65c2d9ba",
   "metadata": {},
   "outputs": [],
   "source": [
    "# Train a Random Forest classifier\n",
    "rfc_MW_S = rfc.fit(X_train_selected_MW_S, y_train_balanced_MW_S)\n",
    "y_pred_MW_S = rfc_MW_S.predict(X_test_MW_S)"
   ]
  },
  {
   "cell_type": "code",
   "execution_count": 150,
   "id": "9345b649",
   "metadata": {},
   "outputs": [
    {
     "name": "stdout",
     "output_type": "stream",
     "text": [
      "Multiclass Classification Results for Flights between the Midwest and the South\n",
      "Accuracy Score: 0.45850456232560816\n",
      "              precision    recall  f1-score   support\n",
      "\n",
      "20=<DELAY<40       0.09      0.14      0.11     12632\n",
      "40=<DELAY<60       0.05      0.10      0.06      6053\n",
      "   60=<DELAY       0.14      0.18      0.16     11844\n",
      "    DELAY<20       0.25      0.23      0.24     40257\n",
      "     ON-TIME       0.69      0.61      0.65    120235\n",
      "\n",
      "    accuracy                           0.46    191021\n",
      "   macro avg       0.24      0.25      0.24    191021\n",
      "weighted avg       0.51      0.46      0.48    191021\n",
      "\n"
     ]
    }
   ],
   "source": [
    "# Get the classification report for each class\n",
    "print(\"Multiclass Classification Results for Flights between the Midwest and the South\")\n",
    "print(\"Accuracy Score:\", accuracy_score(y_test_MW_S,y_pred_MW_S))\n",
    "print(classification_report(y_test_MW_S, y_pred_MW_S))"
   ]
  },
  {
   "cell_type": "code",
   "execution_count": null,
   "id": "8fdf460c",
   "metadata": {},
   "outputs": [],
   "source": []
  },
  {
   "cell_type": "markdown",
   "id": "ed838285",
   "metadata": {},
   "source": [
    "# Flights between the Midwest and the West:"
   ]
  },
  {
   "cell_type": "code",
   "execution_count": 151,
   "id": "16ee43cf",
   "metadata": {},
   "outputs": [],
   "source": [
    "flights_MW_W = flights_w_weather[(flights_w_weather['ORIGIN_REGION'] == 'West') & (flights_w_weather['DESTINATION_REGION'] == 'Midwest') | (flights_w_weather['ORIGIN_REGION'] == 'Midwest') & (flights_w_weather['DESTINATION_REGION'] == 'West')]"
   ]
  },
  {
   "cell_type": "markdown",
   "id": "0cd5fcd1",
   "metadata": {},
   "source": [
    "## Binary Classification:"
   ]
  },
  {
   "cell_type": "code",
   "execution_count": 152,
   "id": "7a8ea9bd",
   "metadata": {},
   "outputs": [],
   "source": [
    "# Encode categorical variables using one-hot encoding\n",
    "flights_MW_W = pd.get_dummies(flights_MW_W, columns=['MONTH', 'DAY_OF_WEEK','AIRLINE', 'ORIGIN_AIRPORT', 'DESTINATION_AIRPORT', 'SCHEDULED_DEP_TIME_CAT', 'SCHEDULED_ARR_TIME_CAT'])\n",
    "\n",
    "# Split the dataset into training and testing sets\n",
    "X_MW_W = flights_MW_W.drop(['DELAYED','ORIGIN_REGION','DESTINATION_REGION','DEPARTURE_DELAY','ARRIVAL_DELAY','DELAY_CATEGORY'], axis=1)\n",
    "y_MW_W = flights_MW_W['DELAYED']\n",
    "X_train_MW_W, X_test_MW_W, y_train_MW_W, y_test_MW_W = train_test_split(X_MW_W, y_MW_W, test_size=0.3, random_state=123)\n"
   ]
  },
  {
   "cell_type": "markdown",
   "id": "6b88e8b7",
   "metadata": {},
   "source": [
    "### Balancing the data"
   ]
  },
  {
   "cell_type": "code",
   "execution_count": 153,
   "id": "e076f918",
   "metadata": {},
   "outputs": [],
   "source": [
    "# Balance the data using RandomOverSampler\n",
    "X_train_balanced_MW_W, y_train_balanced_MW_W = ros.fit_resample(X_train_MW_W, y_train_MW_W)\n"
   ]
  },
  {
   "cell_type": "markdown",
   "id": "b6f91081",
   "metadata": {},
   "source": [
    "### Feature Selection"
   ]
  },
  {
   "cell_type": "code",
   "execution_count": 154,
   "id": "ad24c3c8",
   "metadata": {},
   "outputs": [
    {
     "name": "stdout",
     "output_type": "stream",
     "text": [
      "Size before feature selection: (280510, 222) (103697, 222)\n",
      "Size after feature selection: (280510, 20) (103697, 20)\n"
     ]
    }
   ],
   "source": [
    "# Perform feature selection using ANOVA F-value between label/feature\n",
    "print(\"Size before feature selection:\",X_train_balanced_MW_W.shape, X_test_MW_W.shape)\n",
    "X_train_selected_MW_W = selector.fit_transform(X_train_balanced_MW_W, y_train_balanced_MW_W)\n",
    "X_test_MW_W = selector.transform(X_test_MW_W)\n",
    "print(\"Size after feature selection:\",X_train_selected_MW_W.shape, X_test_MW_W.shape)\n"
   ]
  },
  {
   "cell_type": "markdown",
   "id": "823d9c36",
   "metadata": {},
   "source": [
    "#### Selected features for binary classification"
   ]
  },
  {
   "cell_type": "code",
   "execution_count": 155,
   "id": "70cf919d",
   "metadata": {},
   "outputs": [
    {
     "name": "stdout",
     "output_type": "stream",
     "text": [
      "Index(['SCHEDULED_TIME', 'DISTANCE', 'ORIGIN_WEATHERCODE', 'ORIGIN_CLOUDCOVER',\n",
      "       'ORIGIN_CLOUDCOVER_MID', 'ORIGIN_WINDSPEED_10M', 'MONTH_9',\n",
      "       'AIRLINE_AA', 'AIRLINE_DL', 'AIRLINE_UA', 'AIRLINE_WN',\n",
      "       'ORIGIN_AIRPORT_MDW', 'ORIGIN_AIRPORT_ORD', 'DESTINATION_AIRPORT_MSP',\n",
      "       'SCHEDULED_DEP_TIME_CAT_Night', 'SCHEDULED_DEP_TIME_CAT_Morning',\n",
      "       'SCHEDULED_DEP_TIME_CAT_Afternoon', 'SCHEDULED_DEP_TIME_CAT_Evening',\n",
      "       'SCHEDULED_ARR_TIME_CAT_Morning', 'SCHEDULED_ARR_TIME_CAT_Evening'],\n",
      "      dtype='object')\n"
     ]
    }
   ],
   "source": [
    "# Print the selected feature names\n",
    "selected_features_binC_MW_W = X_MW_W.columns[selector.get_support()]\n",
    "print(selected_features_binC_MW_W)"
   ]
  },
  {
   "cell_type": "markdown",
   "id": "d014118e",
   "metadata": {},
   "source": [
    "### Training binary RFC"
   ]
  },
  {
   "cell_type": "code",
   "execution_count": 156,
   "id": "b1d29fac",
   "metadata": {},
   "outputs": [],
   "source": [
    "# Train the model on the training set\n",
    "binC_MW_W = rfc.fit(X_train_selected_MW_W, y_train_balanced_MW_W)"
   ]
  },
  {
   "cell_type": "code",
   "execution_count": 157,
   "id": "0f5fa29d",
   "metadata": {},
   "outputs": [
    {
     "name": "stdout",
     "output_type": "stream",
     "text": [
      "Binary Classification Results for Flights between the Midwest and the West\n",
      "Accuracy Score: 0.6290442346451681\n",
      "              precision    recall  f1-score   support\n",
      "\n",
      "     ON TIME       0.67      0.70      0.69     60104\n",
      "     DELAYED       0.56      0.54      0.55     43593\n",
      "\n",
      "    accuracy                           0.63    103697\n",
      "   macro avg       0.62      0.62      0.62    103697\n",
      "weighted avg       0.63      0.63      0.63    103697\n",
      "\n"
     ]
    }
   ],
   "source": [
    "# Evaluate the model on the testing set\n",
    "y_pred_MW_W = binC_MW_W.predict(X_test_MW_W)\n",
    "print(\"Binary Classification Results for Flights between the Midwest and the West\")\n",
    "print(\"Accuracy Score:\", accuracy_score(y_test_MW_W, y_pred_MW_W))\n",
    "print(classification_report(y_test_MW_W, y_pred_MW_W, target_names=target_names))"
   ]
  },
  {
   "cell_type": "markdown",
   "id": "0a2208f6",
   "metadata": {},
   "source": [
    "## Multiclass Classification"
   ]
  },
  {
   "cell_type": "code",
   "execution_count": 158,
   "id": "2481a6df",
   "metadata": {},
   "outputs": [],
   "source": [
    "X_MW_W = flights_MW_W.drop(['DELAYED','ORIGIN_REGION','DESTINATION_REGION','DEPARTURE_DELAY','ARRIVAL_DELAY','DELAY_CATEGORY'], axis=1)\n",
    "y_MW_W = flights_MW_W['DELAY_CATEGORY']\n",
    "\n",
    "X_train_MW_W, X_test_MW_W, y_train_MW_W, y_test_MW_W = train_test_split(X_MW_W, y_MW_W, test_size=0.3, random_state=123)\n"
   ]
  },
  {
   "cell_type": "markdown",
   "id": "50cea471",
   "metadata": {},
   "source": [
    "### Balancing the data"
   ]
  },
  {
   "cell_type": "code",
   "execution_count": 159,
   "id": "663e2da5",
   "metadata": {},
   "outputs": [],
   "source": [
    "# Balance the dataset using RandomOverSampler\n",
    "X_train_balanced_MW_W, y_train_balanced_MW_W = ros.fit_resample(X_train_MW_W, y_train_MW_W)"
   ]
  },
  {
   "cell_type": "code",
   "execution_count": 160,
   "id": "836b1e3c",
   "metadata": {
    "scrolled": true
   },
   "outputs": [
    {
     "name": "stdout",
     "output_type": "stream",
     "text": [
      "Before balancing: ON-TIME         140255\n",
      "DELAY<20         61637\n",
      "20=<DELAY<40     17612\n",
      "60=<DELAY        14373\n",
      "40=<DELAY<60      8080\n",
      "Name: DELAY_CATEGORY, dtype: int64\n",
      "After balancing: 60=<DELAY       140255\n",
      "ON-TIME         140255\n",
      "DELAY<20        140255\n",
      "20=<DELAY<40    140255\n",
      "40=<DELAY<60    140255\n",
      "Name: DELAY_CATEGORY, dtype: int64\n"
     ]
    }
   ],
   "source": [
    "before_balancing = y_train_MW_W.value_counts()\n",
    "print(\"Before balancing:\",before_balancing)\n",
    "after_balancing = y_train_balanced_MW_W.value_counts()\n",
    "print(\"After balancing:\",after_balancing)\n"
   ]
  },
  {
   "cell_type": "markdown",
   "id": "91ba9500",
   "metadata": {},
   "source": [
    "### Feature selection"
   ]
  },
  {
   "cell_type": "code",
   "execution_count": 161,
   "id": "dbe44aa1",
   "metadata": {
    "scrolled": true
   },
   "outputs": [
    {
     "name": "stdout",
     "output_type": "stream",
     "text": [
      "Size before feature selection: (701275, 222) (103697, 222)\n",
      "Size after feature selection: (701275, 20) (103697, 20)\n"
     ]
    }
   ],
   "source": [
    "# Perform feature selection using ANOVA F-value between label/feature\n",
    "print(\"Size before feature selection:\",X_train_balanced_MW_W.shape, X_test_MW_W.shape)\n",
    "X_train_selected_MW_W = selector.fit_transform(X_train_balanced_MW_W, y_train_balanced_MW_W)\n",
    "X_test_MW_W = selector.transform(X_test_MW_W)\n",
    "print(\"Size after feature selection:\",X_train_selected_MW_W.shape, X_test_MW_W.shape)"
   ]
  },
  {
   "cell_type": "markdown",
   "id": "77219bab",
   "metadata": {},
   "source": [
    "#### Features selected for multicategory classifcation"
   ]
  },
  {
   "cell_type": "code",
   "execution_count": 162,
   "id": "884fb24d",
   "metadata": {
    "scrolled": true
   },
   "outputs": [
    {
     "name": "stdout",
     "output_type": "stream",
     "text": [
      "Index(['ORIGIN_PRECIPITATION', 'ORIGIN_SNOWFALL', 'ORIGIN_WEATHERCODE',\n",
      "       'ORIGIN_CLOUDCOVER', 'ORIGIN_CLOUDCOVER_MID', 'MONTH_6', 'MONTH_9',\n",
      "       'AIRLINE_DL', 'AIRLINE_NK', 'AIRLINE_UA', 'AIRLINE_WN',\n",
      "       'ORIGIN_AIRPORT_MDW', 'ORIGIN_AIRPORT_ORD', 'DESTINATION_AIRPORT_MSP',\n",
      "       'SCHEDULED_DEP_TIME_CAT_Night', 'SCHEDULED_DEP_TIME_CAT_Morning',\n",
      "       'SCHEDULED_DEP_TIME_CAT_Afternoon', 'SCHEDULED_DEP_TIME_CAT_Evening',\n",
      "       'SCHEDULED_ARR_TIME_CAT_Morning', 'SCHEDULED_ARR_TIME_CAT_Evening'],\n",
      "      dtype='object')\n"
     ]
    }
   ],
   "source": [
    "selected_features_mulC_MW_W = X_MW_W.columns[selector.get_support()]\n",
    "print(selected_features_mulC_MW_W)"
   ]
  },
  {
   "cell_type": "markdown",
   "id": "d3c36d41",
   "metadata": {},
   "source": [
    "### Training multiclass RFC"
   ]
  },
  {
   "cell_type": "code",
   "execution_count": 163,
   "id": "e25afac1",
   "metadata": {},
   "outputs": [],
   "source": [
    "# Train a Random Forest classifier\n",
    "rfc_MW_W = rfc.fit(X_train_selected_MW_W, y_train_balanced_MW_W)\n",
    "y_pred_MW_W = rfc_MW_W.predict(X_test_MW_W)"
   ]
  },
  {
   "cell_type": "code",
   "execution_count": 164,
   "id": "8282e453",
   "metadata": {},
   "outputs": [
    {
     "name": "stdout",
     "output_type": "stream",
     "text": [
      "Multiclass Classification Results for Flights between the Midwest and the West\n",
      "Accuracy Score: 0.382701524634271\n",
      "              precision    recall  f1-score   support\n",
      "\n",
      "20=<DELAY<40       0.10      0.19      0.13      7523\n",
      "40=<DELAY<60       0.05      0.17      0.07      3329\n",
      "   60=<DELAY       0.11      0.20      0.14      6138\n",
      "    DELAY<20       0.30      0.24      0.27     26603\n",
      "     ON-TIME       0.68      0.50      0.58     60104\n",
      "\n",
      "    accuracy                           0.38    103697\n",
      "   macro avg       0.25      0.26      0.24    103697\n",
      "weighted avg       0.49      0.38      0.42    103697\n",
      "\n"
     ]
    }
   ],
   "source": [
    "# Get the classification report for each class\n",
    "print(\"Multiclass Classification Results for Flights between the Midwest and the West\")\n",
    "print(\"Accuracy Score:\", accuracy_score(y_test_MW_W,y_pred_MW_W))\n",
    "print(classification_report(y_test_MW_W, y_pred_MW_W))"
   ]
  },
  {
   "cell_type": "code",
   "execution_count": null,
   "id": "874e032e",
   "metadata": {},
   "outputs": [],
   "source": []
  },
  {
   "cell_type": "markdown",
   "id": "59bf67e1",
   "metadata": {},
   "source": [
    "# Flights between the Northeast and the South:"
   ]
  },
  {
   "cell_type": "code",
   "execution_count": 169,
   "id": "8aef886e",
   "metadata": {},
   "outputs": [],
   "source": [
    "flights_NE_S = flights_w_weather[(flights_w_weather['ORIGIN_REGION'] == 'Northeast') & (flights_w_weather['DESTINATION_REGION'] == 'South') | (flights_w_weather['ORIGIN_REGION'] == 'South') & (flights_w_weather['DESTINATION_REGION'] == 'Northeast')]"
   ]
  },
  {
   "cell_type": "markdown",
   "id": "4997119f",
   "metadata": {},
   "source": [
    "## Binary Classification:"
   ]
  },
  {
   "cell_type": "code",
   "execution_count": 170,
   "id": "99ed2da3",
   "metadata": {},
   "outputs": [],
   "source": [
    "# Encode categorical variables using one-hot encoding\n",
    "flights_NE_S = pd.get_dummies(flights_NE_S, columns=['MONTH', 'DAY_OF_WEEK','AIRLINE', 'ORIGIN_AIRPORT', 'DESTINATION_AIRPORT', 'SCHEDULED_DEP_TIME_CAT', 'SCHEDULED_ARR_TIME_CAT'])\n",
    "\n",
    "# Split the dataset into training and testing sets\n",
    "X_NE_S = flights_NE_S.drop(['DELAYED','ORIGIN_REGION','DESTINATION_REGION','DEPARTURE_DELAY','ARRIVAL_DELAY','DELAY_CATEGORY'], axis=1)\n",
    "y_NE_S = flights_NE_S['DELAYED']\n",
    "X_train_NE_S, X_test_NE_S, y_train_NE_S, y_test_NE_S = train_test_split(X_NE_S, y_NE_S, test_size=0.3, random_state=123)\n"
   ]
  },
  {
   "cell_type": "markdown",
   "id": "ad82947b",
   "metadata": {},
   "source": [
    "### Balancing the data"
   ]
  },
  {
   "cell_type": "code",
   "execution_count": 171,
   "id": "cb758064",
   "metadata": {},
   "outputs": [],
   "source": [
    "# Balance the data using RandomOverSampler\n",
    "X_train_balanced_NE_S, y_train_balanced_NE_S = ros.fit_resample(X_train_NE_S, y_train_NE_S)\n"
   ]
  },
  {
   "cell_type": "markdown",
   "id": "73b18d69",
   "metadata": {},
   "source": [
    "### Feature Selection"
   ]
  },
  {
   "cell_type": "code",
   "execution_count": 172,
   "id": "3e5a44f7",
   "metadata": {},
   "outputs": [
    {
     "name": "stdout",
     "output_type": "stream",
     "text": [
      "Size before feature selection: (499246, 228) (176880, 228)\n"
     ]
    },
    {
     "name": "stderr",
     "output_type": "stream",
     "text": [
      "C:\\Users\\hirat\\anaconda3\\envs\\CS6242_Project\\lib\\site-packages\\sklearn\\feature_selection\\_univariate_selection.py:112: UserWarning: Features [147 170] are constant.\n",
      "  warnings.warn(\"Features %s are constant.\" % constant_features_idx, UserWarning)\n",
      "C:\\Users\\hirat\\anaconda3\\envs\\CS6242_Project\\lib\\site-packages\\sklearn\\feature_selection\\_univariate_selection.py:113: RuntimeWarning: invalid value encountered in divide\n",
      "  f = msb / msw\n"
     ]
    },
    {
     "name": "stdout",
     "output_type": "stream",
     "text": [
      "Size after feature selection: (499246, 20) (176880, 20)\n"
     ]
    }
   ],
   "source": [
    "# Perform feature selection using ANOVA F-value between label/feature\n",
    "print(\"Size before feature selection:\",X_train_balanced_NE_S.shape, X_test_NE_S.shape)\n",
    "X_train_selected_NE_S = selector.fit_transform(X_train_balanced_NE_S, y_train_balanced_NE_S)\n",
    "X_test_NE_S = selector.transform(X_test_NE_S)\n",
    "print(\"Size after feature selection:\",X_train_selected_NE_S.shape, X_test_NE_S.shape)\n"
   ]
  },
  {
   "cell_type": "markdown",
   "id": "98d0e6a5",
   "metadata": {},
   "source": [
    "#### Selected features for binary classification"
   ]
  },
  {
   "cell_type": "code",
   "execution_count": 173,
   "id": "d4f01355",
   "metadata": {},
   "outputs": [
    {
     "name": "stdout",
     "output_type": "stream",
     "text": [
      "Index(['SCHEDULED_TIME', 'DISTANCE', 'ORIGIN_PRESSURE_MSL',\n",
      "       'ORIGIN_PRECIPITATION', 'ORIGIN_RAIN', 'ORIGIN_WEATHERCODE',\n",
      "       'ORIGIN_CLOUDCOVER', 'ORIGIN_CLOUDCOVER_MID', 'ORIGIN_WINDSPEED_10M',\n",
      "       'DESTINATION_PRESSURE_MSL', 'DESTINATION_WINDSPEED_100M', 'MONTH_2',\n",
      "       'AIRLINE_UA', 'SCHEDULED_DEP_TIME_CAT_Night',\n",
      "       'SCHEDULED_DEP_TIME_CAT_Morning', 'SCHEDULED_DEP_TIME_CAT_Afternoon',\n",
      "       'SCHEDULED_DEP_TIME_CAT_Evening', 'SCHEDULED_ARR_TIME_CAT_Morning',\n",
      "       'SCHEDULED_ARR_TIME_CAT_Afternoon', 'SCHEDULED_ARR_TIME_CAT_Evening'],\n",
      "      dtype='object')\n"
     ]
    }
   ],
   "source": [
    "# Print the selected feature names\n",
    "selected_features_binC_NE_S = X_NE_S.columns[selector.get_support()]\n",
    "print(selected_features_binC_NE_S)"
   ]
  },
  {
   "cell_type": "markdown",
   "id": "f691fd9f",
   "metadata": {},
   "source": [
    "### Training binary RFC"
   ]
  },
  {
   "cell_type": "code",
   "execution_count": 174,
   "id": "c578d7ab",
   "metadata": {},
   "outputs": [],
   "source": [
    "# Train the model on the training set\n",
    "binC_NE_S = rfc.fit(X_train_selected_NE_S, y_train_balanced_NE_S)"
   ]
  },
  {
   "cell_type": "code",
   "execution_count": 175,
   "id": "5678add7",
   "metadata": {},
   "outputs": [
    {
     "name": "stdout",
     "output_type": "stream",
     "text": [
      "Binary Classification Results for Flights between the Northeast and the South\n",
      "Accuracy Score: 0.6533525554047942\n",
      "              precision    recall  f1-score   support\n",
      "\n",
      "     ON TIME       0.70      0.74      0.72    106693\n",
      "     DELAYED       0.57      0.52      0.54     70187\n",
      "\n",
      "    accuracy                           0.65    176880\n",
      "   macro avg       0.64      0.63      0.63    176880\n",
      "weighted avg       0.65      0.65      0.65    176880\n",
      "\n"
     ]
    }
   ],
   "source": [
    "# Evaluate the model on the testing set\n",
    "y_pred_NE_S = binC_NE_S.predict(X_test_NE_S)\n",
    "print(\"Binary Classification Results for Flights between the Northeast and the South\")\n",
    "print(\"Accuracy Score:\", accuracy_score(y_test_NE_S, y_pred_NE_S))\n",
    "print(classification_report(y_test_NE_S, y_pred_NE_S, target_names=target_names))"
   ]
  },
  {
   "cell_type": "markdown",
   "id": "541e7259",
   "metadata": {},
   "source": [
    "## Multiclass Classification"
   ]
  },
  {
   "cell_type": "code",
   "execution_count": 176,
   "id": "a6dffa42",
   "metadata": {},
   "outputs": [],
   "source": [
    "X_NE_S = flights_NE_S.drop(['DELAYED','ORIGIN_REGION','DESTINATION_REGION','DEPARTURE_DELAY','ARRIVAL_DELAY','DELAY_CATEGORY'], axis=1)\n",
    "y_NE_S = flights_NE_S['DELAY_CATEGORY']\n",
    "\n",
    "X_train_NE_S, X_test_NE_S, y_train_NE_S, y_test_NE_S = train_test_split(X_NE_S, y_NE_S, test_size=0.3, random_state=123)\n"
   ]
  },
  {
   "cell_type": "markdown",
   "id": "46e52a6e",
   "metadata": {},
   "source": [
    "### Balancing the data"
   ]
  },
  {
   "cell_type": "code",
   "execution_count": 177,
   "id": "f0f1dc51",
   "metadata": {},
   "outputs": [],
   "source": [
    "# Balance the dataset using RandomOverSampler\n",
    "X_train_balanced_NE_S, y_train_balanced_NE_S = ros.fit_resample(X_train_NE_S, y_train_NE_S)"
   ]
  },
  {
   "cell_type": "code",
   "execution_count": 178,
   "id": "0c15de08",
   "metadata": {
    "scrolled": true
   },
   "outputs": [
    {
     "name": "stdout",
     "output_type": "stream",
     "text": [
      "Before balancing: ON-TIME         249623\n",
      "DELAY<20         88059\n",
      "60=<DELAY        30164\n",
      "20=<DELAY<40     29932\n",
      "40=<DELAY<60     14940\n",
      "Name: DELAY_CATEGORY, dtype: int64\n",
      "After balancing: ON-TIME         249623\n",
      "DELAY<20        249623\n",
      "20=<DELAY<40    249623\n",
      "60=<DELAY       249623\n",
      "40=<DELAY<60    249623\n",
      "Name: DELAY_CATEGORY, dtype: int64\n"
     ]
    }
   ],
   "source": [
    "before_balancing = y_train_NE_S.value_counts()\n",
    "print(\"Before balancing:\",before_balancing)\n",
    "after_balancing = y_train_balanced_NE_S.value_counts()\n",
    "print(\"After balancing:\",after_balancing)\n"
   ]
  },
  {
   "cell_type": "markdown",
   "id": "4d6bf6aa",
   "metadata": {},
   "source": [
    "### Feature selection"
   ]
  },
  {
   "cell_type": "code",
   "execution_count": 179,
   "id": "640d64c0",
   "metadata": {
    "scrolled": true
   },
   "outputs": [
    {
     "name": "stdout",
     "output_type": "stream",
     "text": [
      "Size before feature selection: (1248115, 228) (176880, 228)\n"
     ]
    },
    {
     "name": "stderr",
     "output_type": "stream",
     "text": [
      "C:\\Users\\hirat\\anaconda3\\envs\\CS6242_Project\\lib\\site-packages\\sklearn\\feature_selection\\_univariate_selection.py:112: UserWarning: Features [147 170] are constant.\n",
      "  warnings.warn(\"Features %s are constant.\" % constant_features_idx, UserWarning)\n",
      "C:\\Users\\hirat\\anaconda3\\envs\\CS6242_Project\\lib\\site-packages\\sklearn\\feature_selection\\_univariate_selection.py:113: RuntimeWarning: invalid value encountered in divide\n",
      "  f = msb / msw\n"
     ]
    },
    {
     "name": "stdout",
     "output_type": "stream",
     "text": [
      "Size after feature selection: (1248115, 20) (176880, 20)\n"
     ]
    }
   ],
   "source": [
    "# Perform feature selection using ANOVA F-value between label/feature\n",
    "print(\"Size before feature selection:\",X_train_balanced_NE_S.shape, X_test_NE_S.shape)\n",
    "X_train_selected_NE_S = selector.fit_transform(X_train_balanced_NE_S, y_train_balanced_NE_S)\n",
    "X_test_NE_S = selector.transform(X_test_NE_S)\n",
    "print(\"Size after feature selection:\",X_train_selected_NE_S.shape, X_test_NE_S.shape)"
   ]
  },
  {
   "cell_type": "markdown",
   "id": "11a5439d",
   "metadata": {},
   "source": [
    "#### Features selected for multicategory classifcation"
   ]
  },
  {
   "cell_type": "code",
   "execution_count": 180,
   "id": "519747d7",
   "metadata": {
    "scrolled": true
   },
   "outputs": [
    {
     "name": "stdout",
     "output_type": "stream",
     "text": [
      "Index(['ORIGIN_PRESSURE_MSL', 'ORIGIN_PRECIPITATION', 'ORIGIN_RAIN',\n",
      "       'ORIGIN_WEATHERCODE', 'ORIGIN_CLOUDCOVER', 'ORIGIN_CLOUDCOVER_MID',\n",
      "       'ORIGIN_CLOUDCOVER_HIGH', 'ORIGIN_WINDSPEED_10M',\n",
      "       'DESTINATION_RELATIVEHUMIDITY_2M', 'DESTINATION_PRESSURE_MSL',\n",
      "       'DESTINATION_PRECIPITATION', 'DESTINATION_WEATHERCODE',\n",
      "       'DESTINATION_WINDSPEED_100M', 'AIRLINE_UA',\n",
      "       'SCHEDULED_DEP_TIME_CAT_Night', 'SCHEDULED_DEP_TIME_CAT_Morning',\n",
      "       'SCHEDULED_DEP_TIME_CAT_Afternoon', 'SCHEDULED_DEP_TIME_CAT_Evening',\n",
      "       'SCHEDULED_ARR_TIME_CAT_Morning', 'SCHEDULED_ARR_TIME_CAT_Evening'],\n",
      "      dtype='object')\n"
     ]
    }
   ],
   "source": [
    "selected_features_mulC_NE_S = X_NE_S.columns[selector.get_support()]\n",
    "print(selected_features_mulC_NE_S)"
   ]
  },
  {
   "cell_type": "markdown",
   "id": "05268977",
   "metadata": {},
   "source": [
    "### Training multiclass RFC"
   ]
  },
  {
   "cell_type": "code",
   "execution_count": 181,
   "id": "cc8eb72f",
   "metadata": {},
   "outputs": [],
   "source": [
    "# Train a Random Forest classifier\n",
    "rfc_NE_S = rfc.fit(X_train_selected_NE_S, y_train_balanced_NE_S)\n",
    "y_pred_NE_S = rfc_NE_S.predict(X_test_NE_S)"
   ]
  },
  {
   "cell_type": "code",
   "execution_count": 182,
   "id": "92068905",
   "metadata": {},
   "outputs": [
    {
     "name": "stdout",
     "output_type": "stream",
     "text": [
      "Multiclass Classification Results for Flights between the Northeast and the South\n",
      "Accuracy Score: 0.5487731795567616\n",
      "              precision    recall  f1-score   support\n",
      "\n",
      "20=<DELAY<40       0.13      0.07      0.09     12968\n",
      "40=<DELAY<60       0.09      0.05      0.06      6550\n",
      "   60=<DELAY       0.29      0.21      0.24     12857\n",
      "    DELAY<20       0.28      0.21      0.24     37812\n",
      "     ON-TIME       0.67      0.80      0.73    106693\n",
      "\n",
      "    accuracy                           0.55    176880\n",
      "   macro avg       0.29      0.27      0.27    176880\n",
      "weighted avg       0.49      0.55      0.52    176880\n",
      "\n"
     ]
    }
   ],
   "source": [
    "# Get the classification report for each class\n",
    "print(\"Multiclass Classification Results for Flights between the Northeast and the South\")\n",
    "print(\"Accuracy Score:\", accuracy_score(y_test_NE_S,y_pred_NE_S))\n",
    "print(classification_report(y_test_NE_S, y_pred_NE_S))"
   ]
  },
  {
   "cell_type": "code",
   "execution_count": null,
   "id": "f63785d1",
   "metadata": {},
   "outputs": [],
   "source": []
  },
  {
   "cell_type": "markdown",
   "id": "354247d9",
   "metadata": {},
   "source": [
    "# Flights between the Northeast and the West:"
   ]
  },
  {
   "cell_type": "code",
   "execution_count": 183,
   "id": "fd127823",
   "metadata": {},
   "outputs": [],
   "source": [
    "flights_NE_W = flights_w_weather[(flights_w_weather['ORIGIN_REGION'] == 'Northeast') & (flights_w_weather['DESTINATION_REGION'] == 'West') | (flights_w_weather['ORIGIN_REGION'] == 'West') & (flights_w_weather['DESTINATION_REGION'] == 'Northeast')]"
   ]
  },
  {
   "cell_type": "markdown",
   "id": "798c1925",
   "metadata": {},
   "source": [
    "## Binary Classification:"
   ]
  },
  {
   "cell_type": "code",
   "execution_count": 184,
   "id": "19ac4c4f",
   "metadata": {},
   "outputs": [],
   "source": [
    "# Encode categorical variables using one-hot encoding\n",
    "flights_NE_W = pd.get_dummies(flights_NE_W, columns=['MONTH', 'DAY_OF_WEEK','AIRLINE', 'ORIGIN_AIRPORT', 'DESTINATION_AIRPORT', 'SCHEDULED_DEP_TIME_CAT', 'SCHEDULED_ARR_TIME_CAT'])\n",
    "\n",
    "# Split the dataset into training and testing sets\n",
    "X_NE_W = flights_NE_W.drop(['DELAYED','ORIGIN_REGION','DESTINATION_REGION','DEPARTURE_DELAY','ARRIVAL_DELAY','DELAY_CATEGORY'], axis=1)\n",
    "y_NE_W = flights_NE_W['DELAYED']\n",
    "X_train_NE_W, X_test_NE_W, y_train_NE_W, y_test_NE_W = train_test_split(X_NE_W, y_NE_W, test_size=0.3, random_state=123)\n"
   ]
  },
  {
   "cell_type": "markdown",
   "id": "36b17c61",
   "metadata": {},
   "source": [
    "### Balancing the data"
   ]
  },
  {
   "cell_type": "code",
   "execution_count": 185,
   "id": "7ff85959",
   "metadata": {},
   "outputs": [],
   "source": [
    "# Balance the data using RandomOverSampler\n",
    "X_train_balanced_NE_W, y_train_balanced_NE_W = ros.fit_resample(X_train_NE_W, y_train_NE_W)\n"
   ]
  },
  {
   "cell_type": "markdown",
   "id": "7fcab629",
   "metadata": {},
   "source": [
    "### Feature Selection"
   ]
  },
  {
   "cell_type": "code",
   "execution_count": 186,
   "id": "c4b27983",
   "metadata": {},
   "outputs": [
    {
     "name": "stdout",
     "output_type": "stream",
     "text": [
      "Size before feature selection: (146388, 151) (56323, 151)\n",
      "Size after feature selection: (146388, 20) (56323, 20)\n"
     ]
    }
   ],
   "source": [
    "# Perform feature selection using ANOVA F-value between label/feature\n",
    "print(\"Size before feature selection:\",X_train_balanced_NE_W.shape, X_test_NE_W.shape)\n",
    "X_train_selected_NE_W = selector.fit_transform(X_train_balanced_NE_W, y_train_balanced_NE_W)\n",
    "X_test_NE_W = selector.transform(X_test_NE_W)\n",
    "print(\"Size after feature selection:\",X_train_selected_NE_W.shape, X_test_NE_W.shape)\n"
   ]
  },
  {
   "cell_type": "markdown",
   "id": "84cae99f",
   "metadata": {},
   "source": [
    "#### Selected features for binary classification"
   ]
  },
  {
   "cell_type": "code",
   "execution_count": 187,
   "id": "18be26f1",
   "metadata": {},
   "outputs": [
    {
     "name": "stdout",
     "output_type": "stream",
     "text": [
      "Index(['ORIGIN_PRECIPITATION', 'ORIGIN_RAIN', 'ORIGIN_WEATHERCODE',\n",
      "       'ORIGIN_CLOUDCOVER_MID', 'ORIGIN_WINDSPEED_10M',\n",
      "       'ORIGIN_WINDSPEED_100M', 'DESTINATION_RELATIVEHUMIDITY_2M', 'MONTH_9',\n",
      "       'AIRLINE_AA', 'AIRLINE_UA', 'ORIGIN_AIRPORT_DEN', 'ORIGIN_AIRPORT_EWR',\n",
      "       'ORIGIN_AIRPORT_JFK', 'SCHEDULED_DEP_TIME_CAT_Night',\n",
      "       'SCHEDULED_DEP_TIME_CAT_Morning', 'SCHEDULED_DEP_TIME_CAT_Afternoon',\n",
      "       'SCHEDULED_DEP_TIME_CAT_Evening', 'SCHEDULED_ARR_TIME_CAT_Morning',\n",
      "       'SCHEDULED_ARR_TIME_CAT_Afternoon', 'SCHEDULED_ARR_TIME_CAT_Evening'],\n",
      "      dtype='object')\n"
     ]
    }
   ],
   "source": [
    "# Print the selected feature names\n",
    "selected_features_binC_NE_W = X_NE_W.columns[selector.get_support()]\n",
    "print(selected_features_binC_NE_W)"
   ]
  },
  {
   "cell_type": "markdown",
   "id": "bd06e3eb",
   "metadata": {},
   "source": [
    "### Training binary RFC"
   ]
  },
  {
   "cell_type": "code",
   "execution_count": 188,
   "id": "96acad1b",
   "metadata": {},
   "outputs": [],
   "source": [
    "# Train the model on the training set\n",
    "binC_NE_W = rfc.fit(X_train_selected_NE_W, y_train_balanced_NE_W)"
   ]
  },
  {
   "cell_type": "code",
   "execution_count": 189,
   "id": "23101169",
   "metadata": {},
   "outputs": [
    {
     "name": "stdout",
     "output_type": "stream",
     "text": [
      "Binary Classification Results for Flights between the Northeast and the West\n",
      "Accuracy Score: 0.6031283844965645\n",
      "              precision    recall  f1-score   support\n",
      "\n",
      "     ON TIME       0.64      0.66      0.65     31435\n",
      "     DELAYED       0.55      0.53      0.54     24888\n",
      "\n",
      "    accuracy                           0.60     56323\n",
      "   macro avg       0.60      0.60      0.60     56323\n",
      "weighted avg       0.60      0.60      0.60     56323\n",
      "\n"
     ]
    }
   ],
   "source": [
    "# Evaluate the model on the testing set\n",
    "y_pred_NE_W = binC_NE_W.predict(X_test_NE_W)\n",
    "print(\"Binary Classification Results for Flights between the Northeast and the West\")\n",
    "print(\"Accuracy Score:\", accuracy_score(y_test_NE_W, y_pred_NE_W))\n",
    "print(classification_report(y_test_NE_W, y_pred_NE_W, target_names=target_names))"
   ]
  },
  {
   "cell_type": "markdown",
   "id": "1c1e0108",
   "metadata": {},
   "source": [
    "## Multiclass Classification"
   ]
  },
  {
   "cell_type": "code",
   "execution_count": 190,
   "id": "a104bbe5",
   "metadata": {},
   "outputs": [],
   "source": [
    "X_NE_W = flights_NE_W.drop(['DELAYED','ORIGIN_REGION','DESTINATION_REGION','DEPARTURE_DELAY','ARRIVAL_DELAY','DELAY_CATEGORY'], axis=1)\n",
    "y_NE_W = flights_NE_W['DELAY_CATEGORY']\n",
    "\n",
    "X_train_NE_W, X_test_NE_W, y_train_NE_W, y_test_NE_W = train_test_split(X_NE_W, y_NE_W, test_size=0.3, random_state=123)\n"
   ]
  },
  {
   "cell_type": "markdown",
   "id": "30c4f4bc",
   "metadata": {},
   "source": [
    "### Balancing the data"
   ]
  },
  {
   "cell_type": "code",
   "execution_count": 191,
   "id": "e70dbe50",
   "metadata": {},
   "outputs": [],
   "source": [
    "# Balance the dataset using RandomOverSampler\n",
    "X_train_balanced_NE_W, y_train_balanced_NE_W = ros.fit_resample(X_train_NE_W, y_train_NE_W)"
   ]
  },
  {
   "cell_type": "code",
   "execution_count": 192,
   "id": "4507da09",
   "metadata": {
    "scrolled": true
   },
   "outputs": [
    {
     "name": "stdout",
     "output_type": "stream",
     "text": [
      "Before balancing: ON-TIME         73194\n",
      "DELAY<20        35115\n",
      "20=<DELAY<40     9883\n",
      "60=<DELAY        8630\n",
      "40=<DELAY<60     4596\n",
      "Name: DELAY_CATEGORY, dtype: int64\n",
      "After balancing: 60=<DELAY       73194\n",
      "40=<DELAY<60    73194\n",
      "20=<DELAY<40    73194\n",
      "ON-TIME         73194\n",
      "DELAY<20        73194\n",
      "Name: DELAY_CATEGORY, dtype: int64\n"
     ]
    }
   ],
   "source": [
    "before_balancing = y_train_NE_W.value_counts()\n",
    "print(\"Before balancing:\",before_balancing)\n",
    "after_balancing = y_train_balanced_NE_W.value_counts()\n",
    "print(\"After balancing:\",after_balancing)\n"
   ]
  },
  {
   "cell_type": "markdown",
   "id": "7444b1b9",
   "metadata": {},
   "source": [
    "### Feature selection"
   ]
  },
  {
   "cell_type": "code",
   "execution_count": 193,
   "id": "1b69e62a",
   "metadata": {
    "scrolled": true
   },
   "outputs": [
    {
     "name": "stdout",
     "output_type": "stream",
     "text": [
      "Size before feature selection: (365970, 151) (56323, 151)\n",
      "Size after feature selection: (365970, 20) (56323, 20)\n"
     ]
    }
   ],
   "source": [
    "# Perform feature selection using ANOVA F-value between label/feature\n",
    "print(\"Size before feature selection:\",X_train_balanced_NE_W.shape, X_test_NE_W.shape)\n",
    "X_train_selected_NE_W = selector.fit_transform(X_train_balanced_NE_W, y_train_balanced_NE_W)\n",
    "X_test_NE_W = selector.transform(X_test_NE_W)\n",
    "print(\"Size after feature selection:\",X_train_selected_NE_W.shape, X_test_NE_W.shape)"
   ]
  },
  {
   "cell_type": "markdown",
   "id": "c8398c1b",
   "metadata": {},
   "source": [
    "#### Features selected for multicategory classifcation"
   ]
  },
  {
   "cell_type": "code",
   "execution_count": 194,
   "id": "14534bc6",
   "metadata": {
    "scrolled": true
   },
   "outputs": [
    {
     "name": "stdout",
     "output_type": "stream",
     "text": [
      "Index(['ORIGIN_PRECIPITATION', 'ORIGIN_RAIN', 'ORIGIN_SNOWFALL',\n",
      "       'ORIGIN_WEATHERCODE', 'ORIGIN_CLOUDCOVER_MID', 'ORIGIN_WINDSPEED_10M',\n",
      "       'ORIGIN_WINDSPEED_100M', 'DESTINATION_RELATIVEHUMIDITY_2M',\n",
      "       'DESTINATION_WEATHERCODE', 'MONTH_9', 'AIRLINE_AA', 'AIRLINE_UA',\n",
      "       'ORIGIN_AIRPORT_EWR', 'SCHEDULED_DEP_TIME_CAT_Night',\n",
      "       'SCHEDULED_DEP_TIME_CAT_Morning', 'SCHEDULED_DEP_TIME_CAT_Afternoon',\n",
      "       'SCHEDULED_DEP_TIME_CAT_Evening', 'SCHEDULED_ARR_TIME_CAT_Morning',\n",
      "       'SCHEDULED_ARR_TIME_CAT_Afternoon', 'SCHEDULED_ARR_TIME_CAT_Evening'],\n",
      "      dtype='object')\n"
     ]
    }
   ],
   "source": [
    "selected_features_mulC_NE_W = X_NE_W.columns[selector.get_support()]\n",
    "print(selected_features_mulC_NE_W)"
   ]
  },
  {
   "cell_type": "markdown",
   "id": "e0ecdbc9",
   "metadata": {},
   "source": [
    "### Training multiclass RFC"
   ]
  },
  {
   "cell_type": "code",
   "execution_count": 195,
   "id": "96ac3bfb",
   "metadata": {},
   "outputs": [],
   "source": [
    "# Train a Random Forest classifier\n",
    "rfc_NE_W = rfc.fit(X_train_selected_NE_W, y_train_balanced_NE_W)\n",
    "y_pred_NE_W = rfc_NE_W.predict(X_test_NE_W)"
   ]
  },
  {
   "cell_type": "code",
   "execution_count": 196,
   "id": "e9ad537b",
   "metadata": {},
   "outputs": [
    {
     "name": "stdout",
     "output_type": "stream",
     "text": [
      "Multiclass Classification Results for Flights between the Northeast and the West\n",
      "Accuracy Score: 0.4869591463522895\n",
      "              precision    recall  f1-score   support\n",
      "\n",
      "20=<DELAY<40       0.11      0.08      0.09      4290\n",
      "40=<DELAY<60       0.07      0.04      0.05      1956\n",
      "   60=<DELAY       0.20      0.15      0.17      3657\n",
      "    DELAY<20       0.31      0.29      0.30     14985\n",
      "     ON-TIME       0.62      0.70      0.66     31435\n",
      "\n",
      "    accuracy                           0.49     56323\n",
      "   macro avg       0.26      0.25      0.25     56323\n",
      "weighted avg       0.45      0.49      0.47     56323\n",
      "\n"
     ]
    }
   ],
   "source": [
    "# Get the classification report for each class\n",
    "print(\"Multiclass Classification Results for Flights between the Northeast and the West\")\n",
    "print(\"Accuracy Score:\", accuracy_score(y_test_NE_W,y_pred_NE_W))\n",
    "print(classification_report(y_test_NE_W, y_pred_NE_W))"
   ]
  },
  {
   "cell_type": "code",
   "execution_count": null,
   "id": "fc46813d",
   "metadata": {},
   "outputs": [],
   "source": []
  },
  {
   "cell_type": "markdown",
   "id": "9ac5fef3",
   "metadata": {},
   "source": [
    "# Flights between the South and the West:"
   ]
  },
  {
   "cell_type": "code",
   "execution_count": 197,
   "id": "7784334c",
   "metadata": {},
   "outputs": [],
   "source": [
    "flights_S_W = flights_w_weather[(flights_w_weather['ORIGIN_REGION'] == 'South') & (flights_w_weather['DESTINATION_REGION'] == 'West') | (flights_w_weather['ORIGIN_REGION'] == 'West') & (flights_w_weather['DESTINATION_REGION'] == 'South')]"
   ]
  },
  {
   "cell_type": "markdown",
   "id": "5b0ecfe3",
   "metadata": {},
   "source": [
    "## Binary Classification:"
   ]
  },
  {
   "cell_type": "code",
   "execution_count": 198,
   "id": "bc278e56",
   "metadata": {},
   "outputs": [],
   "source": [
    "# Encode categorical variables using one-hot encoding\n",
    "flights_S_W = pd.get_dummies(flights_S_W, columns=['MONTH', 'DAY_OF_WEEK','AIRLINE', 'ORIGIN_AIRPORT', 'DESTINATION_AIRPORT', 'SCHEDULED_DEP_TIME_CAT', 'SCHEDULED_ARR_TIME_CAT'])\n",
    "\n",
    "# Split the dataset into training and testing sets\n",
    "X_S_W = flights_S_W.drop(['DELAYED','ORIGIN_REGION','DESTINATION_REGION','DEPARTURE_DELAY','ARRIVAL_DELAY','DELAY_CATEGORY'], axis=1)\n",
    "y_S_W = flights_S_W['DELAYED']\n",
    "X_train_S_W, X_test_S_W, y_train_S_W, y_test_S_W = train_test_split(X_S_W, y_S_W, test_size=0.3, random_state=123)\n"
   ]
  },
  {
   "cell_type": "markdown",
   "id": "3261cf9b",
   "metadata": {},
   "source": [
    "### Balancing the data"
   ]
  },
  {
   "cell_type": "code",
   "execution_count": 199,
   "id": "a4cbeba0",
   "metadata": {},
   "outputs": [],
   "source": [
    "# Balance the data using RandomOverSampler\n",
    "X_train_balanced_S_W, y_train_balanced_S_W = ros.fit_resample(X_train_S_W, y_train_S_W)\n"
   ]
  },
  {
   "cell_type": "markdown",
   "id": "a7d78819",
   "metadata": {},
   "source": [
    "### Feature Selection"
   ]
  },
  {
   "cell_type": "code",
   "execution_count": 200,
   "id": "2e04c6f8",
   "metadata": {},
   "outputs": [
    {
     "name": "stdout",
     "output_type": "stream",
     "text": [
      "Size before feature selection: (443700, 237) (168000, 237)\n",
      "Size after feature selection: (443700, 20) (168000, 20)\n"
     ]
    }
   ],
   "source": [
    "# Perform feature selection using ANOVA F-value between label/feature\n",
    "print(\"Size before feature selection:\",X_train_balanced_S_W.shape, X_test_S_W.shape)\n",
    "X_train_selected_S_W = selector.fit_transform(X_train_balanced_S_W, y_train_balanced_S_W)\n",
    "X_test_S_W = selector.transform(X_test_S_W)\n",
    "print(\"Size after feature selection:\",X_train_selected_S_W.shape, X_test_S_W.shape)\n"
   ]
  },
  {
   "cell_type": "markdown",
   "id": "4698224b",
   "metadata": {},
   "source": [
    "#### Selected features for binary classification"
   ]
  },
  {
   "cell_type": "code",
   "execution_count": 201,
   "id": "ae557fcb",
   "metadata": {},
   "outputs": [
    {
     "name": "stdout",
     "output_type": "stream",
     "text": [
      "Index(['ORIGIN_PRECIPITATION', 'ORIGIN_RAIN', 'ORIGIN_WEATHERCODE',\n",
      "       'ORIGIN_CLOUDCOVER', 'ORIGIN_CLOUDCOVER_LOW', 'ORIGIN_CLOUDCOVER_MID',\n",
      "       'ORIGIN_WINDSPEED_10M', 'MONTH_9', 'AIRLINE_AA', 'AIRLINE_OO',\n",
      "       'AIRLINE_UA', 'AIRLINE_WN', 'ORIGIN_AIRPORT_IAH',\n",
      "       'DESTINATION_AIRPORT_DFW', 'SCHEDULED_DEP_TIME_CAT_Night',\n",
      "       'SCHEDULED_DEP_TIME_CAT_Morning', 'SCHEDULED_DEP_TIME_CAT_Afternoon',\n",
      "       'SCHEDULED_DEP_TIME_CAT_Evening', 'SCHEDULED_ARR_TIME_CAT_Morning',\n",
      "       'SCHEDULED_ARR_TIME_CAT_Evening'],\n",
      "      dtype='object')\n"
     ]
    }
   ],
   "source": [
    "# Print the selected feature names\n",
    "selected_features_binC_S_W = X_S_W.columns[selector.get_support()]\n",
    "print(selected_features_binC_S_W)"
   ]
  },
  {
   "cell_type": "markdown",
   "id": "2dc407b4",
   "metadata": {},
   "source": [
    "### Training binary RFC"
   ]
  },
  {
   "cell_type": "code",
   "execution_count": 202,
   "id": "804c3479",
   "metadata": {},
   "outputs": [],
   "source": [
    "# Train the model on the training set\n",
    "binC_S_W = rfc.fit(X_train_selected_S_W, y_train_balanced_S_W)"
   ]
  },
  {
   "cell_type": "code",
   "execution_count": 203,
   "id": "cd5344df",
   "metadata": {},
   "outputs": [
    {
     "name": "stdout",
     "output_type": "stream",
     "text": [
      "Binary Classification Results for Flights between the South and the West\n",
      "Accuracy Score: 0.5986190476190476\n",
      "              precision    recall  f1-score   support\n",
      "\n",
      "     ON TIME       0.65      0.64      0.64     95371\n",
      "     DELAYED       0.54      0.55      0.54     72629\n",
      "\n",
      "    accuracy                           0.60    168000\n",
      "   macro avg       0.59      0.59      0.59    168000\n",
      "weighted avg       0.60      0.60      0.60    168000\n",
      "\n"
     ]
    }
   ],
   "source": [
    "# Evaluate the model on the testing set\n",
    "y_pred_S_W = binC_S_W.predict(X_test_S_W)\n",
    "print(\"Binary Classification Results for Flights between the South and the West\")\n",
    "print(\"Accuracy Score:\", accuracy_score(y_test_S_W, y_pred_S_W))\n",
    "print(classification_report(y_test_S_W, y_pred_S_W, target_names=target_names))"
   ]
  },
  {
   "cell_type": "markdown",
   "id": "19f1d5c4",
   "metadata": {},
   "source": [
    "## Multiclass Classification"
   ]
  },
  {
   "cell_type": "code",
   "execution_count": 204,
   "id": "e0166eca",
   "metadata": {},
   "outputs": [],
   "source": [
    "X_S_W = flights_S_W.drop(['DELAYED','ORIGIN_REGION','DESTINATION_REGION','DEPARTURE_DELAY','ARRIVAL_DELAY','DELAY_CATEGORY'], axis=1)\n",
    "y_S_W = flights_S_W['DELAY_CATEGORY']\n",
    "\n",
    "X_train_S_W, X_test_S_W, y_train_S_W, y_test_S_W = train_test_split(X_S_W, y_S_W, test_size=0.3, random_state=123)\n"
   ]
  },
  {
   "cell_type": "markdown",
   "id": "ed9af41b",
   "metadata": {},
   "source": [
    "### Balancing the data"
   ]
  },
  {
   "cell_type": "code",
   "execution_count": 205,
   "id": "ec1a40dd",
   "metadata": {},
   "outputs": [],
   "source": [
    "# Balance the dataset using RandomOverSampler\n",
    "X_train_balanced_S_W, y_train_balanced_S_W = ros.fit_resample(X_train_S_W, y_train_S_W)"
   ]
  },
  {
   "cell_type": "code",
   "execution_count": 206,
   "id": "4513c43a",
   "metadata": {
    "scrolled": true
   },
   "outputs": [
    {
     "name": "stdout",
     "output_type": "stream",
     "text": [
      "Before balancing: ON-TIME         221850\n",
      "DELAY<20        105632\n",
      "20=<DELAY<40     28995\n",
      "60=<DELAY        22461\n",
      "40=<DELAY<60     13060\n",
      "Name: DELAY_CATEGORY, dtype: int64\n",
      "After balancing: ON-TIME         221850\n",
      "DELAY<20        221850\n",
      "20=<DELAY<40    221850\n",
      "40=<DELAY<60    221850\n",
      "60=<DELAY       221850\n",
      "Name: DELAY_CATEGORY, dtype: int64\n"
     ]
    }
   ],
   "source": [
    "before_balancing = y_train_S_W.value_counts()\n",
    "print(\"Before balancing:\",before_balancing)\n",
    "after_balancing = y_train_balanced_S_W.value_counts()\n",
    "print(\"After balancing:\",after_balancing)\n"
   ]
  },
  {
   "cell_type": "markdown",
   "id": "bd46af6c",
   "metadata": {},
   "source": [
    "### Feature selection"
   ]
  },
  {
   "cell_type": "code",
   "execution_count": 207,
   "id": "1563ad3a",
   "metadata": {
    "scrolled": true
   },
   "outputs": [
    {
     "name": "stdout",
     "output_type": "stream",
     "text": [
      "Size before feature selection: (1109250, 237) (168000, 237)\n",
      "Size after feature selection: (1109250, 20) (168000, 20)\n"
     ]
    }
   ],
   "source": [
    "# Perform feature selection using ANOVA F-value between label/feature\n",
    "print(\"Size before feature selection:\",X_train_balanced_S_W.shape, X_test_S_W.shape)\n",
    "X_train_selected_S_W = selector.fit_transform(X_train_balanced_S_W, y_train_balanced_S_W)\n",
    "X_test_S_W = selector.transform(X_test_S_W)\n",
    "print(\"Size after feature selection:\",X_train_selected_S_W.shape, X_test_S_W.shape)"
   ]
  },
  {
   "cell_type": "markdown",
   "id": "11cda460",
   "metadata": {},
   "source": [
    "#### Features selected for multicategory classifcation"
   ]
  },
  {
   "cell_type": "code",
   "execution_count": 208,
   "id": "62179bf3",
   "metadata": {
    "scrolled": true
   },
   "outputs": [
    {
     "name": "stdout",
     "output_type": "stream",
     "text": [
      "Index(['ORIGIN_PRECIPITATION', 'ORIGIN_RAIN', 'ORIGIN_WEATHERCODE',\n",
      "       'ORIGIN_CLOUDCOVER', 'ORIGIN_CLOUDCOVER_MID', 'ORIGIN_CLOUDCOVER_HIGH',\n",
      "       'ORIGIN_WINDSPEED_10M', 'MONTH_6', 'MONTH_9', 'AIRLINE_DL',\n",
      "       'AIRLINE_OO', 'AIRLINE_UA', 'AIRLINE_WN', 'DESTINATION_AIRPORT_DFW',\n",
      "       'SCHEDULED_DEP_TIME_CAT_Night', 'SCHEDULED_DEP_TIME_CAT_Morning',\n",
      "       'SCHEDULED_DEP_TIME_CAT_Afternoon', 'SCHEDULED_DEP_TIME_CAT_Evening',\n",
      "       'SCHEDULED_ARR_TIME_CAT_Morning', 'SCHEDULED_ARR_TIME_CAT_Evening'],\n",
      "      dtype='object')\n"
     ]
    }
   ],
   "source": [
    "selected_features_mulC_S_W = X_S_W.columns[selector.get_support()]\n",
    "print(selected_features_mulC_S_W)"
   ]
  },
  {
   "cell_type": "markdown",
   "id": "f17d06b2",
   "metadata": {},
   "source": [
    "### Training multiclass RFC"
   ]
  },
  {
   "cell_type": "code",
   "execution_count": 209,
   "id": "347b6e33",
   "metadata": {},
   "outputs": [],
   "source": [
    "# Train a Random Forest classifier\n",
    "rfc_S_W = rfc.fit(X_train_selected_S_W, y_train_balanced_S_W)\n",
    "y_pred_S_W = rfc_S_W.predict(X_test_S_W)"
   ]
  },
  {
   "cell_type": "code",
   "execution_count": 210,
   "id": "e0b9c718",
   "metadata": {},
   "outputs": [
    {
     "name": "stdout",
     "output_type": "stream",
     "text": [
      "Multiclass Classification Results for Flights between the South and the West\n",
      "Accuracy Score: 0.40860714285714284\n",
      "              precision    recall  f1-score   support\n",
      "\n",
      "20=<DELAY<40       0.10      0.16      0.12     12475\n",
      "40=<DELAY<60       0.05      0.12      0.07      5561\n",
      "   60=<DELAY       0.11      0.17      0.13      9526\n",
      "    DELAY<20       0.32      0.28      0.30     45067\n",
      "     ON-TIME       0.65      0.54      0.59     95371\n",
      "\n",
      "    accuracy                           0.41    168000\n",
      "   macro avg       0.24      0.25      0.24    168000\n",
      "weighted avg       0.47      0.41      0.43    168000\n",
      "\n"
     ]
    }
   ],
   "source": [
    "# Get the classification report for each class\n",
    "print(\"Multiclass Classification Results for Flights between the South and the West\")\n",
    "print(\"Accuracy Score:\", accuracy_score(y_test_S_W,y_pred_S_W))\n",
    "print(classification_report(y_test_S_W, y_pred_S_W))"
   ]
  },
  {
   "cell_type": "code",
   "execution_count": null,
   "id": "721a2f38",
   "metadata": {},
   "outputs": [],
   "source": []
  }
 ],
 "metadata": {
  "kernelspec": {
   "display_name": "Python 3 (ipykernel)",
   "language": "python",
   "name": "python3"
  },
  "language_info": {
   "codemirror_mode": {
    "name": "ipython",
    "version": 3
   },
   "file_extension": ".py",
   "mimetype": "text/x-python",
   "name": "python",
   "nbconvert_exporter": "python",
   "pygments_lexer": "ipython3",
   "version": "3.9.16"
  }
 },
 "nbformat": 4,
 "nbformat_minor": 5
}
