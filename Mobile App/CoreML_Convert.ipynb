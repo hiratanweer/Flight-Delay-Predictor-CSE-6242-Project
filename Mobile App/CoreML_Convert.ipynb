{
 "cells": [
  {
   "cell_type": "code",
   "execution_count": 1,
   "id": "ee261482",
   "metadata": {},
   "outputs": [],
   "source": [
    "import pandas as pd\n",
    "import joblib\n",
    "import pickle\n",
    "import coremltools as ct"
   ]
  },
  {
   "cell_type": "code",
   "execution_count": 2,
   "id": "b156a035",
   "metadata": {},
   "outputs": [],
   "source": [
    "\n",
    "model_list_string = [\n",
    "'binC_MW'\n",
    ",'rfc_MW'\n",
    ",'binC_NE'\n",
    ",'rfc_NE'\n",
    ",'binC_S'\n",
    ",'rfc_S'\n",
    ",'binC_W'\n",
    ",'rfc_W'\n",
    ",'binC_MW_NE'\n",
    ",'rfc_MW_NE'\n",
    ",'binC_MW_S'\n",
    ",'rfc_MW_S'\n",
    ",'binC_MW_W'\n",
    ",'rfc_MW_W'\n",
    ",'binC_NE_S'\n",
    ",'rfc_NE_S'\n",
    ",'binC_NE_W'\n",
    ",'rfc_NE_W'\n",
    ",'binC_S_W'\n",
    ",'rfc_S_W'\n",
    "]\n"
   ]
  },
  {
   "cell_type": "code",
   "execution_count": 3,
   "id": "a7a4a2a7",
   "metadata": {},
   "outputs": [
    {
     "name": "stdout",
     "output_type": "stream",
     "text": [
      "Processing: binC_MW.sav\n",
      "----------------------------------------------------------------------------------------\n",
      "Processing: rfc_MW.sav\n",
      "----------------------------------------------------------------------------------------\n",
      "Processing: binC_NE.sav\n",
      "----------------------------------------------------------------------------------------\n",
      "Processing: rfc_NE.sav\n",
      "----------------------------------------------------------------------------------------\n",
      "Processing: binC_S.sav\n",
      "----------------------------------------------------------------------------------------\n"
     ]
    }
   ],
   "source": [
    "cnt = 0\n",
    "\n",
    "path = 'C:/Users/hymee/Desktop/OMSA/CSE6242/Project/joblib/' + model_list_string[cnt] + '.sav'\n",
    "print('Processing: ' + model_list_string[cnt] + '.sav')\n",
    "binC_MW = joblib.load(path)\n",
    "cnt = cnt + 1\n",
    "print('----------------------------------------------------------------------------------------')\n",
    "path = 'C:/Users/hymee/Desktop/OMSA/CSE6242/Project/joblib/' + model_list_string[cnt] + '.sav'\n",
    "print('Processing: ' + model_list_string[cnt] + '.sav')\n",
    "rfc_MW = joblib.load(path)\n",
    "cnt = cnt + 1\n",
    "print('----------------------------------------------------------------------------------------')\n",
    "path = 'C:/Users/hymee/Desktop/OMSA/CSE6242/Project/joblib/' + model_list_string[cnt] + '.sav'\n",
    "print('Processing: ' + model_list_string[cnt] + '.sav')\n",
    "binC_NE = joblib.load(path)\n",
    "cnt = cnt + 1\n",
    "print('----------------------------------------------------------------------------------------')\n",
    "path = 'C:/Users/hymee/Desktop/OMSA/CSE6242/Project/joblib/' + model_list_string[cnt] + '.sav'\n",
    "print('Processing: ' + model_list_string[cnt] + '.sav')\n",
    "rfc_NE = joblib.load(path)\n",
    "cnt = cnt + 1\n",
    "print('----------------------------------------------------------------------------------------')\n",
    "path = 'C:/Users/hymee/Desktop/OMSA/CSE6242/Project/joblib/' + model_list_string[cnt] + '.sav'\n",
    "print('Processing: ' + model_list_string[cnt] + '.sav')\n",
    "binC_S = joblib.load(path)\n",
    "cnt = cnt + 1\n",
    "print('----------------------------------------------------------------------------------------')\n",
    "\n",
    "\n",
    "\n",
    "\n"
   ]
  },
  {
   "cell_type": "code",
   "execution_count": 4,
   "id": "bd9f8c5c",
   "metadata": {},
   "outputs": [
    {
     "name": "stdout",
     "output_type": "stream",
     "text": [
      "Processing: rfc_S.sav\n",
      "----------------------------------------------------------------------------------------\n",
      "Processing: binC_W.sav\n",
      "----------------------------------------------------------------------------------------\n",
      "Processing: rfc_W.sav\n",
      "----------------------------------------------------------------------------------------\n"
     ]
    }
   ],
   "source": [
    "path = 'C:/Users/hymee/Desktop/OMSA/CSE6242/Project/joblib/' + model_list_string[cnt] + '.sav'\n",
    "print('Processing: ' + model_list_string[cnt] + '.sav')\n",
    "rfc_S = joblib.load(path)\n",
    "cnt = cnt + 1\n",
    "print('----------------------------------------------------------------------------------------')\n",
    "path = 'C:/Users/hymee/Desktop/OMSA/CSE6242/Project/joblib/' + model_list_string[cnt] + '.sav'\n",
    "print('Processing: ' + model_list_string[cnt] + '.sav')\n",
    "binC_W = joblib.load(path)\n",
    "cnt = cnt + 1\n",
    "print('----------------------------------------------------------------------------------------')\n",
    "path = 'C:/Users/hymee/Desktop/OMSA/CSE6242/Project/joblib/' + model_list_string[cnt] + '.sav'\n",
    "print('Processing: ' + model_list_string[cnt] + '.sav')\n",
    "rfc_W = joblib.load(path)\n",
    "cnt = cnt + 1\n",
    "print('----------------------------------------------------------------------------------------')"
   ]
  },
  {
   "cell_type": "code",
   "execution_count": 5,
   "id": "6a59f08e",
   "metadata": {},
   "outputs": [
    {
     "name": "stdout",
     "output_type": "stream",
     "text": [
      "Processing: binC_MW_NE.sav\n",
      "----------------------------------------------------------------------------------------\n",
      "Processing: rfc_MW_NE.sav\n",
      "----------------------------------------------------------------------------------------\n",
      "Processing: binC_MW_S.sav\n",
      "----------------------------------------------------------------------------------------\n"
     ]
    }
   ],
   "source": [
    "path = 'C:/Users/hymee/Desktop/OMSA/CSE6242/Project/joblib/' + model_list_string[cnt] + '.sav'\n",
    "print('Processing: ' + model_list_string[cnt] + '.sav')\n",
    "binC_MW_NE = joblib.load(path)\n",
    "cnt = cnt + 1\n",
    "print('----------------------------------------------------------------------------------------')\n",
    "path = 'C:/Users/hymee/Desktop/OMSA/CSE6242/Project/joblib/' + model_list_string[cnt] + '.sav'\n",
    "print('Processing: ' + model_list_string[cnt] + '.sav')\n",
    "rfc_MW_NE = joblib.load(path)\n",
    "cnt = cnt + 1\n",
    "print('----------------------------------------------------------------------------------------')\n",
    "path = 'C:/Users/hymee/Desktop/OMSA/CSE6242/Project/joblib/' + model_list_string[cnt] + '.sav'\n",
    "print('Processing: ' + model_list_string[cnt] + '.sav')\n",
    "binC_MW_S = joblib.load(path)\n",
    "cnt = cnt + 1\n",
    "print('----------------------------------------------------------------------------------------')\n"
   ]
  },
  {
   "cell_type": "code",
   "execution_count": 6,
   "id": "f257d92f",
   "metadata": {},
   "outputs": [
    {
     "name": "stdout",
     "output_type": "stream",
     "text": [
      "Processing: rfc_MW_S.sav\n",
      "----------------------------------------------------------------------------------------\n",
      "Processing: binC_MW_W.sav\n",
      "----------------------------------------------------------------------------------------\n",
      "Processing: rfc_MW_W.sav\n",
      "----------------------------------------------------------------------------------------\n"
     ]
    }
   ],
   "source": [
    "path = 'C:/Users/hymee/Desktop/OMSA/CSE6242/Project/joblib/' + model_list_string[cnt] + '.sav'\n",
    "print('Processing: ' + model_list_string[cnt] + '.sav')\n",
    "rfc_MW_S = joblib.load(path)\n",
    "cnt = cnt + 1\n",
    "print('----------------------------------------------------------------------------------------')\n",
    "path = 'C:/Users/hymee/Desktop/OMSA/CSE6242/Project/joblib/' + model_list_string[cnt] + '.sav'\n",
    "print('Processing: ' + model_list_string[cnt] + '.sav')\n",
    "binC_MW_W = joblib.load(path)\n",
    "cnt = cnt + 1\n",
    "print('----------------------------------------------------------------------------------------')\n",
    "path = 'C:/Users/hymee/Desktop/OMSA/CSE6242/Project/joblib/' + model_list_string[cnt] + '.sav'\n",
    "print('Processing: ' + model_list_string[cnt] + '.sav')\n",
    "rfc_MW_W = joblib.load(path)\n",
    "cnt = cnt + 1\n",
    "print('----------------------------------------------------------------------------------------')"
   ]
  },
  {
   "cell_type": "code",
   "execution_count": 7,
   "id": "ddd46e04",
   "metadata": {},
   "outputs": [
    {
     "name": "stdout",
     "output_type": "stream",
     "text": [
      "Processing: binC_NE_S.sav\n",
      "----------------------------------------------------------------------------------------\n",
      "Processing: rfc_NE_S.sav\n",
      "----------------------------------------------------------------------------------------\n",
      "Processing: binC_NE_W.sav\n",
      "----------------------------------------------------------------------------------------\n"
     ]
    }
   ],
   "source": [
    "path = 'C:/Users/hymee/Desktop/OMSA/CSE6242/Project/joblib/' + model_list_string[cnt] + '.sav'\n",
    "print('Processing: ' + model_list_string[cnt] + '.sav')\n",
    "binC_NE_S = joblib.load(path)\n",
    "cnt = cnt + 1\n",
    "print('----------------------------------------------------------------------------------------')\n",
    "path = 'C:/Users/hymee/Desktop/OMSA/CSE6242/Project/joblib/' + model_list_string[cnt] + '.sav'\n",
    "print('Processing: ' + model_list_string[cnt] + '.sav')\n",
    "rfc_NE_S = joblib.load(path)\n",
    "cnt = cnt + 1\n",
    "print('----------------------------------------------------------------------------------------')\n",
    "path = 'C:/Users/hymee/Desktop/OMSA/CSE6242/Project/joblib/' + model_list_string[cnt] + '.sav'\n",
    "print('Processing: ' + model_list_string[cnt] + '.sav')\n",
    "binC_NE_W = joblib.load(path)\n",
    "cnt = cnt + 1\n",
    "print('----------------------------------------------------------------------------------------')"
   ]
  },
  {
   "cell_type": "code",
   "execution_count": 8,
   "id": "aa4f73ca",
   "metadata": {},
   "outputs": [
    {
     "name": "stdout",
     "output_type": "stream",
     "text": [
      "Processing: rfc_NE_W.sav\n",
      "----------------------------------------------------------------------------------------\n",
      "Processing: binC_S_W.sav\n",
      "----------------------------------------------------------------------------------------\n",
      "Processing: rfc_S_W.sav\n",
      "----------------------------------------------------------------------------------------\n"
     ]
    }
   ],
   "source": [
    "path = 'C:/Users/hymee/Desktop/OMSA/CSE6242/Project/joblib/' + model_list_string[cnt] + '.sav'\n",
    "print('Processing: ' + model_list_string[cnt] + '.sav')\n",
    "rfc_NE_W = joblib.load(path)\n",
    "cnt = cnt + 1\n",
    "print('----------------------------------------------------------------------------------------')\n",
    "path = 'C:/Users/hymee/Desktop/OMSA/CSE6242/Project/joblib/' + model_list_string[cnt] + '.sav'\n",
    "print('Processing: ' + model_list_string[cnt] + '.sav')\n",
    "binC_S_W = joblib.load(path)\n",
    "cnt = cnt + 1\n",
    "print('----------------------------------------------------------------------------------------')\n",
    "path = 'C:/Users/hymee/Desktop/OMSA/CSE6242/Project/joblib/' + model_list_string[cnt] + '.sav'\n",
    "print('Processing: ' + model_list_string[cnt] + '.sav')\n",
    "rfc_S_W = joblib.load(path)\n",
    "cnt = cnt + 1\n",
    "print('----------------------------------------------------------------------------------------')"
   ]
  },
  {
   "cell_type": "code",
   "execution_count": 9,
   "id": "8a19970b",
   "metadata": {},
   "outputs": [],
   "source": [
    "model_list = [\n",
    "binC_MW\n",
    ",rfc_MW\n",
    ",binC_NE\n",
    ",rfc_NE\n",
    ",binC_S\n",
    ",rfc_S\n",
    ",binC_W\n",
    ",rfc_W\n",
    ",binC_MW_NE\n",
    ",rfc_MW_NE\n",
    ",binC_MW_S\n",
    ",rfc_MW_S\n",
    ",binC_MW_W\n",
    ",rfc_MW_W\n",
    ",binC_NE_S\n",
    ",rfc_NE_S\n",
    ",binC_NE_W\n",
    ",rfc_NE_W\n",
    ",binC_S_W\n",
    ",rfc_S_W\n",
    "]\n",
    "\n"
   ]
  },
  {
   "cell_type": "code",
   "execution_count": 10,
   "id": "fc86a385",
   "metadata": {},
   "outputs": [],
   "source": [
    "def convert_coreML(input_model, save_directory):\n",
    "    print(\"Start Converting\")\n",
    "    coreml_model = ct.converters.sklearn.convert(input_model)\n",
    "    \n",
    "    print(\"Finished Converting...Saving the CoreML model\")\n",
    "    coreml_model.save(save_directory)\n",
    "    \n",
    "    print(\"Finished Saving the CoreML model\")"
   ]
  },
  {
   "cell_type": "code",
   "execution_count": 11,
   "id": "2e15909f",
   "metadata": {},
   "outputs": [
    {
     "name": "stdout",
     "output_type": "stream",
     "text": [
      "C:/Users/hymee/Desktop/OMSA/CSE6242/Project/coreML/binC_MW.mlmodel\n"
     ]
    }
   ],
   "source": [
    "\n",
    "save_dir = 'C:/Users/hymee/Desktop/OMSA/CSE6242/Project/coreML/' + model_list_string[0] + '.mlmodel'\n",
    "print(save_dir)"
   ]
  },
  {
   "cell_type": "code",
   "execution_count": 12,
   "id": "00141186",
   "metadata": {},
   "outputs": [],
   "source": [
    "#convert_coreML(binC_MW, save_dir)"
   ]
  },
  {
   "cell_type": "code",
   "execution_count": null,
   "id": "d0fbda9b",
   "metadata": {},
   "outputs": [],
   "source": []
  }
 ],
 "metadata": {
  "kernelspec": {
   "display_name": "Python 3 (ipykernel)",
   "language": "python",
   "name": "python3"
  },
  "language_info": {
   "codemirror_mode": {
    "name": "ipython",
    "version": 3
   },
   "file_extension": ".py",
   "mimetype": "text/x-python",
   "name": "python",
   "nbconvert_exporter": "python",
   "pygments_lexer": "ipython3",
   "version": "3.9.13"
  }
 },
 "nbformat": 4,
 "nbformat_minor": 5
}
